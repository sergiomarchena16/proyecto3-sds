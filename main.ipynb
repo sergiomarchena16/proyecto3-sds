{
 "cells": [
  {
   "cell_type": "markdown",
   "metadata": {},
   "source": [
    "# Proyecto 3 - Ataques a modelos de Deep Learning\n",
    "Security Data Science\n",
    "\n",
    "Sergio Marchena - 16387\n",
    "\n",
    "UVG"
   ]
  },
  {
   "cell_type": "code",
   "execution_count": 35,
   "metadata": {},
   "outputs": [],
   "source": [
    "import numpy as np\n",
    "import pandas as pd\n",
    "import os\n",
    "from tensorflow.keras import datasets, layers, models\n",
    "from keras.layers import Dense, Dropout, Flatten\n",
    "from keras.models import model_from_json\n",
    "from sklearn.model_selection import train_test_split\n",
    "import tensorflow as tf\n",
    "import matplotlib.pyplot as plt\n",
    "from keras.preprocessing.image import ImageDataGenerator\n",
    "import keras\n",
    "from keras.models import Sequential\n",
    "from keras.layers import Dense, Flatten, Conv2D, MaxPooling2D, Flatten, InputLayer, Reshape\n",
    "from sklearn import metrics\n",
    "import seaborn as sns"
   ]
  },
  {
   "cell_type": "markdown",
   "metadata": {},
   "source": [
    "## 1. Se debe mostrar un entrenamiento y predicción del modelo original "
   ]
  },
  {
   "cell_type": "code",
   "execution_count": 36,
   "metadata": {},
   "outputs": [
    {
     "name": "stdout",
     "output_type": "stream",
     "text": [
      "Found 9339 images belonging to 25 classes.\n"
     ]
    }
   ],
   "source": [
    "dir = 'malimg_paper_dataset_imgs'\n",
    "batches = ImageDataGenerator().flow_from_directory(directory=dir, target_size=(64,64), batch_size=10000)\n",
    "imgs, labels = next(batches)"
   ]
  },
  {
   "cell_type": "code",
   "execution_count": 85,
   "metadata": {},
   "outputs": [
    {
     "name": "stdout",
     "output_type": "stream",
     "text": [
      "x_train: (5136, 64, 64, 3)\n",
      "x_test:  (4203, 64, 64, 3)\n",
      "y_train: (5136, 64, 64, 3)\n",
      "y_test:  (4203, 64, 64, 3)\n"
     ]
    }
   ],
   "source": [
    "x_train, x_test, y_train, y_test = train_test_split(imgs/255.,labels, test_size=0.45)\n",
    "\n",
    "\n",
    "print('x_train:', x_train.shape)\n",
    "print('x_test: ', x_test.shape)\n",
    "\n",
    "print('y_train:', x_train.shape)\n",
    "print('y_test: ', x_test.shape)"
   ]
  },
  {
   "cell_type": "code",
   "execution_count": 38,
   "metadata": {},
   "outputs": [],
   "source": [
    "num_classes = 25 # classes\n",
    "\n",
    "def modelo1():\n",
    "    # sequential model\n",
    "    modelo = Sequential()\n",
    "    modelo.add(Conv2D(30, kernel_size=(3, 3),\n",
    "                     activation='relu',\n",
    "                     input_shape=(64,64,3)))\n",
    "\n",
    "    modelo.add(MaxPooling2D(pool_size=(2, 2)))\n",
    "    modelo.add(Conv2D(15, (3, 3), activation='relu'))\n",
    "    modelo.add(MaxPooling2D(pool_size=(2, 2)))\n",
    "    modelo.add(Dropout(0.25))\n",
    "    modelo.add(Flatten())\n",
    "    modelo.add(Dense(128, activation='relu'))\n",
    "    modelo.add(Dropout(0.5))\n",
    "    modelo.add(Dense(50, activation='relu'))\n",
    "    modelo.add(Dense(num_classes, activation='softmax'))\n",
    "    modelo.compile(loss='categorical_crossentropy', optimizer = 'adam', metrics=['accuracy'])\n",
    "    return modelo"
   ]
  },
  {
   "cell_type": "code",
   "execution_count": 39,
   "metadata": {},
   "outputs": [],
   "source": [
    "modelo_seq = modelo1()"
   ]
  },
  {
   "cell_type": "code",
   "execution_count": 40,
   "metadata": {},
   "outputs": [
    {
     "name": "stdout",
     "output_type": "stream",
     "text": [
      "Model: \"sequential_3\"\n",
      "_________________________________________________________________\n",
      " Layer (type)                Output Shape              Param #   \n",
      "=================================================================\n",
      " conv2d_6 (Conv2D)           (None, 62, 62, 30)        840       \n",
      "                                                                 \n",
      " max_pooling2d_6 (MaxPooling  (None, 31, 31, 30)       0         \n",
      " 2D)                                                             \n",
      "                                                                 \n",
      " conv2d_7 (Conv2D)           (None, 29, 29, 15)        4065      \n",
      "                                                                 \n",
      " max_pooling2d_7 (MaxPooling  (None, 14, 14, 15)       0         \n",
      " 2D)                                                             \n",
      "                                                                 \n",
      " dropout_6 (Dropout)         (None, 14, 14, 15)        0         \n",
      "                                                                 \n",
      " flatten_3 (Flatten)         (None, 2940)              0         \n",
      "                                                                 \n",
      " dense_9 (Dense)             (None, 128)               376448    \n",
      "                                                                 \n",
      " dropout_7 (Dropout)         (None, 128)               0         \n",
      "                                                                 \n",
      " dense_10 (Dense)            (None, 50)                6450      \n",
      "                                                                 \n",
      " dense_11 (Dense)            (None, 25)                1275      \n",
      "                                                                 \n",
      "=================================================================\n",
      "Total params: 389,078\n",
      "Trainable params: 389,078\n",
      "Non-trainable params: 0\n",
      "_________________________________________________________________\n"
     ]
    }
   ],
   "source": [
    "modelo_seq.summary()"
   ]
  },
  {
   "cell_type": "code",
   "execution_count": 41,
   "metadata": {},
   "outputs": [
    {
     "data": {
      "text/plain": [
       "array([ 2,  2, 22, ..., 23,  2, 15])"
      ]
     },
     "execution_count": 41,
     "metadata": {},
     "output_type": "execute_result"
    }
   ],
   "source": [
    "# extract only classes\n",
    "y_train_new = np.argmax(y_train, axis=1)\n",
    "y_train_new"
   ]
  },
  {
   "cell_type": "code",
   "execution_count": 42,
   "metadata": {},
   "outputs": [
    {
     "name": "stdout",
     "output_type": "stream",
     "text": [
      "Train on 5136 samples, validate on 4203 samples\n",
      "Epoch 1/10\n"
     ]
    },
    {
     "name": "stderr",
     "output_type": "stream",
     "text": [
      "2022-05-30 13:55:37.223338: I tensorflow/core/grappler/optimizers/custom_graph_optimizer_registry.cc:113] Plugin optimizer for device_type GPU is enabled.\n",
      "2022-05-30 13:55:37.267290: I tensorflow/core/grappler/optimizers/custom_graph_optimizer_registry.cc:113] Plugin optimizer for device_type GPU is enabled.\n",
      "2022-05-30 13:55:37.336064: I tensorflow/core/grappler/optimizers/custom_graph_optimizer_registry.cc:113] Plugin optimizer for device_type GPU is enabled.\n",
      "2022-05-30 13:55:37.347169: I tensorflow/core/grappler/optimizers/custom_graph_optimizer_registry.cc:113] Plugin optimizer for device_type GPU is enabled.\n"
     ]
    },
    {
     "name": "stdout",
     "output_type": "stream",
     "text": [
      "5136/5136 [==============================] - ETA: 0s - loss: 1.8451 - accuracy: 0.4480"
     ]
    },
    {
     "name": "stderr",
     "output_type": "stream",
     "text": [
      "/Users/sergiomarchena/miniforge3/envs/MLvenv/lib/python3.8/site-packages/keras/engine/training_v1.py:2057: UserWarning: `Model.state_updates` will be removed in a future version. This property should not be used in TensorFlow 2.0, as `updates` are applied automatically.\n",
      "  updates = self.state_updates\n",
      "2022-05-30 13:55:42.352933: I tensorflow/core/grappler/optimizers/custom_graph_optimizer_registry.cc:113] Plugin optimizer for device_type GPU is enabled.\n"
     ]
    },
    {
     "name": "stdout",
     "output_type": "stream",
     "text": [
      "5136/5136 [==============================] - 6s 1ms/sample - loss: 1.8451 - accuracy: 0.4480 - val_loss: 1.0220 - val_accuracy: 0.6629\n",
      "Epoch 2/10\n",
      "5136/5136 [==============================] - 5s 999us/sample - loss: 0.8635 - accuracy: 0.6980 - val_loss: 0.6555 - val_accuracy: 0.7523\n",
      "Epoch 3/10\n",
      "5136/5136 [==============================] - 5s 979us/sample - loss: 0.5446 - accuracy: 0.8298 - val_loss: 0.3609 - val_accuracy: 0.8972\n",
      "Epoch 4/10\n",
      "5136/5136 [==============================] - 5s 981us/sample - loss: 0.3525 - accuracy: 0.8964 - val_loss: 0.2643 - val_accuracy: 0.9198\n",
      "Epoch 5/10\n",
      "5136/5136 [==============================] - 5s 1ms/sample - loss: 0.2793 - accuracy: 0.9137 - val_loss: 0.2266 - val_accuracy: 0.9291\n",
      "Epoch 6/10\n",
      "5136/5136 [==============================] - 5s 1ms/sample - loss: 0.2362 - accuracy: 0.9246 - val_loss: 0.2138 - val_accuracy: 0.9367\n",
      "Epoch 7/10\n",
      "5136/5136 [==============================] - 5s 1ms/sample - loss: 0.2249 - accuracy: 0.9293 - val_loss: 0.1916 - val_accuracy: 0.9453\n",
      "Epoch 8/10\n",
      "5136/5136 [==============================] - 5s 1ms/sample - loss: 0.1809 - accuracy: 0.9375 - val_loss: 0.1854 - val_accuracy: 0.9405\n",
      "Epoch 9/10\n",
      "5136/5136 [==============================] - 5s 1ms/sample - loss: 0.1675 - accuracy: 0.9470 - val_loss: 0.1920 - val_accuracy: 0.9405\n",
      "Epoch 10/10\n",
      "5136/5136 [==============================] - 5s 992us/sample - loss: 0.1533 - accuracy: 0.9494 - val_loss: 0.2004 - val_accuracy: 0.9389\n"
     ]
    },
    {
     "data": {
      "text/plain": [
       "<keras.callbacks.History at 0x1569166a0>"
      ]
     },
     "execution_count": 42,
     "metadata": {},
     "output_type": "execute_result"
    }
   ],
   "source": [
    "# training\n",
    "modelo_seq.fit(x_train, y_train, validation_data=(x_test, y_test), epochs=10)"
   ]
  },
  {
   "cell_type": "code",
   "execution_count": 43,
   "metadata": {},
   "outputs": [],
   "source": [
    "scores = modelo_seq.evaluate(x_test, y_test)"
   ]
  },
  {
   "cell_type": "code",
   "execution_count": 44,
   "metadata": {},
   "outputs": [
    {
     "name": "stdout",
     "output_type": "stream",
     "text": [
      "Accuracy CNN: 93.89\n"
     ]
    }
   ],
   "source": [
    "print('Accuracy CNN: %0.2f' % (scores[1]*100))"
   ]
  },
  {
   "cell_type": "code",
   "execution_count": 45,
   "metadata": {},
   "outputs": [
    {
     "name": "stderr",
     "output_type": "stream",
     "text": [
      "2022-05-30 13:56:31.027571: I tensorflow/core/grappler/optimizers/custom_graph_optimizer_registry.cc:113] Plugin optimizer for device_type GPU is enabled.\n",
      "2022-05-30 13:56:31.036285: I tensorflow/core/grappler/optimizers/custom_graph_optimizer_registry.cc:113] Plugin optimizer for device_type GPU is enabled.\n",
      "2022-05-30 13:56:31.044424: I tensorflow/core/grappler/optimizers/custom_graph_optimizer_registry.cc:113] Plugin optimizer for device_type GPU is enabled.\n",
      "2022-05-30 13:56:31.060585: I tensorflow/core/grappler/optimizers/custom_graph_optimizer_registry.cc:113] Plugin optimizer for device_type GPU is enabled.\n",
      "2022-05-30 13:56:31.074767: I tensorflow/core/grappler/optimizers/custom_graph_optimizer_registry.cc:113] Plugin optimizer for device_type GPU is enabled.\n",
      "2022-05-30 13:56:31.086593: I tensorflow/core/grappler/optimizers/custom_graph_optimizer_registry.cc:113] Plugin optimizer for device_type GPU is enabled.\n",
      "2022-05-30 13:56:31.096625: I tensorflow/core/grappler/optimizers/custom_graph_optimizer_registry.cc:113] Plugin optimizer for device_type GPU is enabled.\n",
      "2022-05-30 13:56:31.106734: I tensorflow/core/grappler/optimizers/custom_graph_optimizer_registry.cc:113] Plugin optimizer for device_type GPU is enabled.\n",
      "2022-05-30 13:56:31.118391: I tensorflow/core/grappler/optimizers/custom_graph_optimizer_registry.cc:113] Plugin optimizer for device_type GPU is enabled.\n"
     ]
    }
   ],
   "source": [
    "# saving model as h5 format\n",
    "modelo_seq.save('modelo_creado.h5')"
   ]
  },
  {
   "cell_type": "markdown",
   "metadata": {},
   "source": [
    "## 2. Se  debe  crear  un  modelo  robado  a  partir  del  modelo  original,  entrenado  con  data completamente aleatoria, con los ataques Copycat CNN y KnockoffNets. "
   ]
  },
  {
   "cell_type": "code",
   "execution_count": 46,
   "metadata": {},
   "outputs": [
    {
     "name": "stdout",
     "output_type": "stream",
     "text": [
      "False\n",
      "3000\n"
     ]
    }
   ],
   "source": [
    "import art\n",
    "from art.attacks import ExtractionAttack\n",
    "from art.attacks.extraction import CopycatCNN, KnockoffNets\n",
    "from art.estimators.classification import KerasClassifier\n",
    "import tensorflow as tf\n",
    "import keras\n",
    "from keras.models import Sequential\n",
    "from keras.layers import Dense, Flatten, Conv2D, MaxPooling2D, Flatten, InputLayer, Reshape\n",
    "\n",
    "from tensorflow.keras.models import load_model\n",
    "from art.utils import load_dataset, get_file\n",
    "from art import config\n",
    "\n",
    "tf.compat.v1.disable_eager_execution() \n",
    "print(tf.executing_eagerly())\n",
    "import sys\n",
    "print(sys.getrecursionlimit())"
   ]
  },
  {
   "cell_type": "code",
   "execution_count": 47,
   "metadata": {},
   "outputs": [
    {
     "name": "stderr",
     "output_type": "stream",
     "text": [
      "2022-05-30 13:56:31.359215: I tensorflow/core/grappler/optimizers/custom_graph_optimizer_registry.cc:113] Plugin optimizer for device_type GPU is enabled.\n",
      "2022-05-30 13:56:31.397635: I tensorflow/core/grappler/optimizers/custom_graph_optimizer_registry.cc:113] Plugin optimizer for device_type GPU is enabled.\n",
      "2022-05-30 13:56:31.445398: I tensorflow/core/grappler/optimizers/custom_graph_optimizer_registry.cc:113] Plugin optimizer for device_type GPU is enabled.\n",
      "2022-05-30 13:56:31.598572: I tensorflow/core/grappler/optimizers/custom_graph_optimizer_registry.cc:113] Plugin optimizer for device_type GPU is enabled.\n",
      "2022-05-30 13:56:31.645912: I tensorflow/core/grappler/optimizers/custom_graph_optimizer_registry.cc:113] Plugin optimizer for device_type GPU is enabled.\n",
      "2022-05-30 13:56:31.673133: I tensorflow/core/grappler/optimizers/custom_graph_optimizer_registry.cc:113] Plugin optimizer for device_type GPU is enabled.\n",
      "2022-05-30 13:56:31.744986: I tensorflow/core/grappler/optimizers/custom_graph_optimizer_registry.cc:113] Plugin optimizer for device_type GPU is enabled.\n"
     ]
    }
   ],
   "source": [
    "# loading model\n",
    "loaded_model = keras.models.load_model('modelo_creado.h5')"
   ]
  },
  {
   "cell_type": "code",
   "execution_count": 48,
   "metadata": {},
   "outputs": [],
   "source": [
    "classifier_original = KerasClassifier(loaded_model, clip_values=(0, 1), use_logits=False)"
   ]
  },
  {
   "cell_type": "code",
   "execution_count": 49,
   "metadata": {},
   "outputs": [],
   "source": [
    "num_epochs = 10 \n",
    "len_steal = 5000 \n",
    "# Stealing from the unprotected classifier.\n",
    "attack_catalogue = {\"Probabilistic CopycatCNN\": CopycatCNN(classifier=classifier_original,\n",
    "                                              batch_size_fit=64,\n",
    "                                              batch_size_query=64,\n",
    "                                              nb_epochs=num_epochs,\n",
    "                                              nb_stolen=len_steal,\n",
    "                                              use_probability=True),\n",
    "                    \"Argmax CopycatCNN\": CopycatCNN(classifier=classifier_original,\n",
    "                                              batch_size_fit=64,\n",
    "                                              batch_size_query=64,\n",
    "                                              nb_epochs=num_epochs,\n",
    "                                              nb_stolen=len_steal,\n",
    "                                              use_probability=False),\n",
    "                    \"Probabilistic KnockoffNets\": KnockoffNets(classifier=classifier_original,\n",
    "                                              batch_size_fit=64,\n",
    "                                              batch_size_query=64,\n",
    "                                              nb_epochs=num_epochs,\n",
    "                                              nb_stolen=len_steal,\n",
    "                                              use_probability=True),\n",
    "                    \"Argmax KnockoffNets\": KnockoffNets(classifier=classifier_original,\n",
    "                                              batch_size_fit=64,\n",
    "                                              batch_size_query=64,\n",
    "                                              nb_epochs=num_epochs,\n",
    "                                              nb_stolen=len_steal,\n",
    "                                              use_probability=False),\n",
    "                   }"
   ]
  },
  {
   "cell_type": "code",
   "execution_count": 78,
   "metadata": {},
   "outputs": [],
   "source": [
    "# new model (from stealed data)\n",
    "def stealed_model():\n",
    "    model = Sequential(Conv2D(30, kernel_size=(3, 3),\n",
    "                     activation='relu',\n",
    "                     input_shape=(64,64,3)))\n",
    "   \n",
    "    model.add(MaxPooling2D(pool_size=(2, 2)))\n",
    "    model.add(Conv2D(15, (3, 3), activation='relu'))\n",
    "    model.add(MaxPooling2D(pool_size=(2, 2)))\n",
    "    model.add(Dropout(0.25))\n",
    "    model.add(Flatten())\n",
    "    model.add(Dense(128, activation='relu'))\n",
    "    model.add(Dropout(0.5))\n",
    "    model.add(Dense(50, activation='relu'))\n",
    "    model.add(Dense(num_classes, activation='softmax'))\n",
    "    model.compile(loss='categorical_crossentropy', optimizer = 'adam', metrics=['accuracy'])\n",
    "    return model"
   ]
  },
  {
   "cell_type": "code",
   "execution_count": 79,
   "metadata": {},
   "outputs": [
    {
     "name": "stderr",
     "output_type": "stream",
     "text": [
      "2022-05-30 14:21:11.822331: I tensorflow/core/grappler/optimizers/custom_graph_optimizer_registry.cc:113] Plugin optimizer for device_type GPU is enabled.\n",
      "2022-05-30 14:21:12.008075: I tensorflow/core/grappler/optimizers/custom_graph_optimizer_registry.cc:113] Plugin optimizer for device_type GPU is enabled.\n",
      "2022-05-30 14:21:12.588890: I tensorflow/core/grappler/optimizers/custom_graph_optimizer_registry.cc:113] Plugin optimizer for device_type GPU is enabled.\n"
     ]
    },
    {
     "name": "stdout",
     "output_type": "stream",
     "text": [
      "Train on 250 samples\n",
      "Epoch 1/10\n"
     ]
    },
    {
     "name": "stderr",
     "output_type": "stream",
     "text": [
      "2022-05-30 14:21:13.060416: I tensorflow/core/grappler/optimizers/custom_graph_optimizer_registry.cc:113] Plugin optimizer for device_type GPU is enabled.\n",
      "2022-05-30 14:21:13.191103: I tensorflow/core/grappler/optimizers/custom_graph_optimizer_registry.cc:113] Plugin optimizer for device_type GPU is enabled.\n",
      "2022-05-30 14:21:13.233446: I tensorflow/core/grappler/optimizers/custom_graph_optimizer_registry.cc:113] Plugin optimizer for device_type GPU is enabled.\n",
      "2022-05-30 14:21:13.260569: I tensorflow/core/grappler/optimizers/custom_graph_optimizer_registry.cc:113] Plugin optimizer for device_type GPU is enabled.\n"
     ]
    },
    {
     "name": "stdout",
     "output_type": "stream",
     "text": [
      "250/250 [==============================] - 1s 3ms/sample - loss: 2.9357 - accuracy: 0.2600\n",
      "Epoch 2/10\n",
      "250/250 [==============================] - 0s 457us/sample - loss: 2.6086 - accuracy: 0.3320\n",
      "Epoch 3/10\n",
      "250/250 [==============================] - 0s 498us/sample - loss: 2.4621 - accuracy: 0.3320\n",
      "Epoch 4/10\n",
      "250/250 [==============================] - 0s 843us/sample - loss: 2.3340 - accuracy: 0.3600\n",
      "Epoch 5/10\n",
      "250/250 [==============================] - 0s 748us/sample - loss: 2.2221 - accuracy: 0.3880\n",
      "Epoch 6/10\n",
      "250/250 [==============================] - 0s 696us/sample - loss: 2.1548 - accuracy: 0.4120\n",
      "Epoch 7/10\n",
      "250/250 [==============================] - 0s 707us/sample - loss: 2.0333 - accuracy: 0.4160\n",
      "Epoch 8/10\n",
      "250/250 [==============================] - 0s 798us/sample - loss: 1.9317 - accuracy: 0.4440\n",
      "Epoch 9/10\n",
      "250/250 [==============================] - 0s 721us/sample - loss: 1.8862 - accuracy: 0.4400\n",
      "Epoch 10/10\n",
      "250/250 [==============================] - 0s 876us/sample - loss: 1.7884 - accuracy: 0.4680\n"
     ]
    },
    {
     "name": "stderr",
     "output_type": "stream",
     "text": [
      "/Users/sergiomarchena/miniforge3/envs/MLvenv/lib/python3.8/site-packages/keras/engine/training_v1.py:2057: UserWarning: `Model.state_updates` will be removed in a future version. This property should not be used in TensorFlow 2.0, as `updates` are applied automatically.\n",
      "  updates = self.state_updates\n",
      "2022-05-30 14:21:15.787505: I tensorflow/core/grappler/optimizers/custom_graph_optimizer_registry.cc:113] Plugin optimizer for device_type GPU is enabled.\n"
     ]
    },
    {
     "name": "stdout",
     "output_type": "stream",
     "text": [
      "Probabilistic CopycatCNN : 0.39741972\n"
     ]
    },
    {
     "name": "stderr",
     "output_type": "stream",
     "text": [
      "2022-05-30 14:21:17.181945: I tensorflow/core/grappler/optimizers/custom_graph_optimizer_registry.cc:113] Plugin optimizer for device_type GPU is enabled.\n",
      "2022-05-30 14:21:17.323711: I tensorflow/core/grappler/optimizers/custom_graph_optimizer_registry.cc:113] Plugin optimizer for device_type GPU is enabled.\n"
     ]
    },
    {
     "name": "stdout",
     "output_type": "stream",
     "text": [
      "Train on 250 samples\n"
     ]
    },
    {
     "name": "stderr",
     "output_type": "stream",
     "text": [
      "2022-05-30 14:21:17.737107: I tensorflow/core/grappler/optimizers/custom_graph_optimizer_registry.cc:113] Plugin optimizer for device_type GPU is enabled.\n",
      "2022-05-30 14:21:17.889630: I tensorflow/core/grappler/optimizers/custom_graph_optimizer_registry.cc:113] Plugin optimizer for device_type GPU is enabled.\n",
      "2022-05-30 14:21:17.933702: I tensorflow/core/grappler/optimizers/custom_graph_optimizer_registry.cc:113] Plugin optimizer for device_type GPU is enabled.\n"
     ]
    },
    {
     "name": "stdout",
     "output_type": "stream",
     "text": [
      "Epoch 1/10\n"
     ]
    },
    {
     "name": "stderr",
     "output_type": "stream",
     "text": [
      "2022-05-30 14:21:17.963929: I tensorflow/core/grappler/optimizers/custom_graph_optimizer_registry.cc:113] Plugin optimizer for device_type GPU is enabled.\n"
     ]
    },
    {
     "name": "stdout",
     "output_type": "stream",
     "text": [
      "250/250 [==============================] - 0s 1ms/sample - loss: 2.6817 - accuracy: 0.3400\n",
      "Epoch 2/10\n",
      "250/250 [==============================] - 0s 651us/sample - loss: 2.4835 - accuracy: 0.3120\n",
      "Epoch 3/10\n",
      "250/250 [==============================] - 0s 445us/sample - loss: 2.3724 - accuracy: 0.3160\n",
      "Epoch 4/10\n",
      "250/250 [==============================] - 0s 437us/sample - loss: 2.2294 - accuracy: 0.3520\n",
      "Epoch 5/10\n",
      "250/250 [==============================] - 0s 455us/sample - loss: 2.1387 - accuracy: 0.3560\n",
      "Epoch 6/10\n",
      "250/250 [==============================] - 0s 516us/sample - loss: 1.9794 - accuracy: 0.4040\n",
      "Epoch 7/10\n",
      "250/250 [==============================] - 0s 865us/sample - loss: 1.9160 - accuracy: 0.3960\n",
      "Epoch 8/10\n",
      "250/250 [==============================] - 0s 835us/sample - loss: 1.8131 - accuracy: 0.4360\n",
      "Epoch 9/10\n",
      "250/250 [==============================] - 0s 787us/sample - loss: 1.6989 - accuracy: 0.4600\n",
      "Epoch 10/10\n",
      "250/250 [==============================] - 0s 700us/sample - loss: 1.6526 - accuracy: 0.4400\n"
     ]
    },
    {
     "name": "stderr",
     "output_type": "stream",
     "text": [
      "2022-05-30 14:21:19.923176: I tensorflow/core/grappler/optimizers/custom_graph_optimizer_registry.cc:113] Plugin optimizer for device_type GPU is enabled.\n"
     ]
    },
    {
     "name": "stdout",
     "output_type": "stream",
     "text": [
      "Argmax CopycatCNN : 0.45307365\n"
     ]
    },
    {
     "name": "stderr",
     "output_type": "stream",
     "text": [
      "2022-05-30 14:21:21.281930: I tensorflow/core/grappler/optimizers/custom_graph_optimizer_registry.cc:113] Plugin optimizer for device_type GPU is enabled.\n",
      "2022-05-30 14:21:21.437686: I tensorflow/core/grappler/optimizers/custom_graph_optimizer_registry.cc:113] Plugin optimizer for device_type GPU is enabled.\n",
      "2022-05-30 14:21:21.868442: I tensorflow/core/grappler/optimizers/custom_graph_optimizer_registry.cc:113] Plugin optimizer for device_type GPU is enabled.\n",
      "2022-05-30 14:21:22.039811: I tensorflow/core/grappler/optimizers/custom_graph_optimizer_registry.cc:113] Plugin optimizer for device_type GPU is enabled.\n",
      "2022-05-30 14:21:22.088481: I tensorflow/core/grappler/optimizers/custom_graph_optimizer_registry.cc:113] Plugin optimizer for device_type GPU is enabled.\n",
      "2022-05-30 14:21:22.121631: I tensorflow/core/grappler/optimizers/custom_graph_optimizer_registry.cc:113] Plugin optimizer for device_type GPU is enabled.\n",
      "2022-05-30 14:21:23.819965: I tensorflow/core/grappler/optimizers/custom_graph_optimizer_registry.cc:113] Plugin optimizer for device_type GPU is enabled.\n"
     ]
    },
    {
     "name": "stdout",
     "output_type": "stream",
     "text": [
      "Probabilistic KnockoffNets : 0.4533266\n"
     ]
    },
    {
     "name": "stderr",
     "output_type": "stream",
     "text": [
      "2022-05-30 14:21:25.242885: I tensorflow/core/grappler/optimizers/custom_graph_optimizer_registry.cc:113] Plugin optimizer for device_type GPU is enabled.\n",
      "2022-05-30 14:21:25.422003: I tensorflow/core/grappler/optimizers/custom_graph_optimizer_registry.cc:113] Plugin optimizer for device_type GPU is enabled.\n",
      "2022-05-30 14:21:25.873376: I tensorflow/core/grappler/optimizers/custom_graph_optimizer_registry.cc:113] Plugin optimizer for device_type GPU is enabled.\n",
      "2022-05-30 14:21:26.068116: I tensorflow/core/grappler/optimizers/custom_graph_optimizer_registry.cc:113] Plugin optimizer for device_type GPU is enabled.\n",
      "2022-05-30 14:21:26.119816: I tensorflow/core/grappler/optimizers/custom_graph_optimizer_registry.cc:113] Plugin optimizer for device_type GPU is enabled.\n",
      "2022-05-30 14:21:26.156184: I tensorflow/core/grappler/optimizers/custom_graph_optimizer_registry.cc:113] Plugin optimizer for device_type GPU is enabled.\n",
      "2022-05-30 14:21:28.101795: I tensorflow/core/grappler/optimizers/custom_graph_optimizer_registry.cc:113] Plugin optimizer for device_type GPU is enabled.\n"
     ]
    },
    {
     "name": "stdout",
     "output_type": "stream",
     "text": [
      "Argmax KnockoffNets : 0.39741972\n"
     ]
    },
    {
     "name": "stderr",
     "output_type": "stream",
     "text": [
      "2022-05-30 14:21:29.590653: I tensorflow/core/grappler/optimizers/custom_graph_optimizer_registry.cc:113] Plugin optimizer for device_type GPU is enabled.\n",
      "2022-05-30 14:21:29.789080: I tensorflow/core/grappler/optimizers/custom_graph_optimizer_registry.cc:113] Plugin optimizer for device_type GPU is enabled.\n"
     ]
    },
    {
     "name": "stdout",
     "output_type": "stream",
     "text": [
      "Train on 500 samples\n"
     ]
    },
    {
     "name": "stderr",
     "output_type": "stream",
     "text": [
      "2022-05-30 14:21:30.507685: I tensorflow/core/grappler/optimizers/custom_graph_optimizer_registry.cc:113] Plugin optimizer for device_type GPU is enabled.\n"
     ]
    },
    {
     "name": "stdout",
     "output_type": "stream",
     "text": [
      "Epoch 1/10\n"
     ]
    },
    {
     "name": "stderr",
     "output_type": "stream",
     "text": [
      "2022-05-30 14:21:30.720251: I tensorflow/core/grappler/optimizers/custom_graph_optimizer_registry.cc:113] Plugin optimizer for device_type GPU is enabled.\n",
      "2022-05-30 14:21:30.776890: I tensorflow/core/grappler/optimizers/custom_graph_optimizer_registry.cc:113] Plugin optimizer for device_type GPU is enabled.\n",
      "2022-05-30 14:21:30.817718: I tensorflow/core/grappler/optimizers/custom_graph_optimizer_registry.cc:113] Plugin optimizer for device_type GPU is enabled.\n"
     ]
    },
    {
     "name": "stdout",
     "output_type": "stream",
     "text": [
      "500/500 [==============================] - 1s 2ms/sample - loss: 2.8080 - accuracy: 0.2740\n",
      "Epoch 2/10\n",
      "500/500 [==============================] - 0s 488us/sample - loss: 2.5216 - accuracy: 0.3340\n",
      "Epoch 3/10\n",
      "500/500 [==============================] - 0s 905us/sample - loss: 2.3710 - accuracy: 0.3800\n",
      "Epoch 4/10\n",
      "500/500 [==============================] - 0s 676us/sample - loss: 2.1922 - accuracy: 0.4280\n",
      "Epoch 5/10\n",
      "500/500 [==============================] - 0s 674us/sample - loss: 2.0534 - accuracy: 0.4420\n",
      "Epoch 6/10\n",
      "500/500 [==============================] - 0s 726us/sample - loss: 1.9002 - accuracy: 0.4820\n",
      "Epoch 7/10\n",
      "500/500 [==============================] - 0s 709us/sample - loss: 1.7838 - accuracy: 0.4680\n",
      "Epoch 8/10\n",
      "500/500 [==============================] - 0s 683us/sample - loss: 1.6132 - accuracy: 0.5380\n",
      "Epoch 9/10\n",
      "500/500 [==============================] - 0s 698us/sample - loss: 1.4942 - accuracy: 0.5680\n",
      "Epoch 10/10\n",
      "500/500 [==============================] - 0s 710us/sample - loss: 1.3519 - accuracy: 0.6080\n"
     ]
    },
    {
     "name": "stderr",
     "output_type": "stream",
     "text": [
      "2022-05-30 14:21:35.068646: I tensorflow/core/grappler/optimizers/custom_graph_optimizer_registry.cc:113] Plugin optimizer for device_type GPU is enabled.\n"
     ]
    },
    {
     "name": "stdout",
     "output_type": "stream",
     "text": [
      "Probabilistic CopycatCNN : 0.5774689\n"
     ]
    },
    {
     "name": "stderr",
     "output_type": "stream",
     "text": [
      "2022-05-30 14:21:36.486264: I tensorflow/core/grappler/optimizers/custom_graph_optimizer_registry.cc:113] Plugin optimizer for device_type GPU is enabled.\n",
      "2022-05-30 14:21:36.708546: I tensorflow/core/grappler/optimizers/custom_graph_optimizer_registry.cc:113] Plugin optimizer for device_type GPU is enabled.\n"
     ]
    },
    {
     "name": "stdout",
     "output_type": "stream",
     "text": [
      "Train on 500 samples\n"
     ]
    },
    {
     "name": "stderr",
     "output_type": "stream",
     "text": [
      "2022-05-30 14:21:37.249900: I tensorflow/core/grappler/optimizers/custom_graph_optimizer_registry.cc:113] Plugin optimizer for device_type GPU is enabled.\n"
     ]
    },
    {
     "name": "stdout",
     "output_type": "stream",
     "text": [
      "Epoch 1/10\n"
     ]
    },
    {
     "name": "stderr",
     "output_type": "stream",
     "text": [
      "2022-05-30 14:21:37.487518: I tensorflow/core/grappler/optimizers/custom_graph_optimizer_registry.cc:113] Plugin optimizer for device_type GPU is enabled.\n",
      "2022-05-30 14:21:37.547438: I tensorflow/core/grappler/optimizers/custom_graph_optimizer_registry.cc:113] Plugin optimizer for device_type GPU is enabled.\n",
      "2022-05-30 14:21:37.592857: I tensorflow/core/grappler/optimizers/custom_graph_optimizer_registry.cc:113] Plugin optimizer for device_type GPU is enabled.\n"
     ]
    },
    {
     "name": "stdout",
     "output_type": "stream",
     "text": [
      "500/500 [==============================] - 1s 1ms/sample - loss: 2.9278 - accuracy: 0.2260\n",
      "Epoch 2/10\n",
      "500/500 [==============================] - 0s 688us/sample - loss: 2.5764 - accuracy: 0.3420\n",
      "Epoch 3/10\n",
      "500/500 [==============================] - 0s 787us/sample - loss: 2.3217 - accuracy: 0.3820\n",
      "Epoch 4/10\n",
      "500/500 [==============================] - 0s 666us/sample - loss: 2.1824 - accuracy: 0.4100\n",
      "Epoch 5/10\n",
      "500/500 [==============================] - 0s 755us/sample - loss: 1.9358 - accuracy: 0.4440\n",
      "Epoch 6/10\n",
      "500/500 [==============================] - 0s 747us/sample - loss: 1.7799 - accuracy: 0.4820\n",
      "Epoch 7/10\n",
      "500/500 [==============================] - 0s 879us/sample - loss: 1.6370 - accuracy: 0.5100\n",
      "Epoch 8/10\n",
      "500/500 [==============================] - 0s 668us/sample - loss: 1.4508 - accuracy: 0.5640\n",
      "Epoch 9/10\n",
      "500/500 [==============================] - 0s 751us/sample - loss: 1.3758 - accuracy: 0.5720\n",
      "Epoch 10/10\n",
      "500/500 [==============================] - 0s 698us/sample - loss: 1.2741 - accuracy: 0.5980\n"
     ]
    },
    {
     "name": "stderr",
     "output_type": "stream",
     "text": [
      "2022-05-30 14:21:41.756753: I tensorflow/core/grappler/optimizers/custom_graph_optimizer_registry.cc:113] Plugin optimizer for device_type GPU is enabled.\n"
     ]
    },
    {
     "name": "stdout",
     "output_type": "stream",
     "text": [
      "Argmax CopycatCNN : 0.6041124\n"
     ]
    },
    {
     "name": "stderr",
     "output_type": "stream",
     "text": [
      "2022-05-30 14:21:43.182360: I tensorflow/core/grappler/optimizers/custom_graph_optimizer_registry.cc:113] Plugin optimizer for device_type GPU is enabled.\n",
      "2022-05-30 14:21:43.425205: I tensorflow/core/grappler/optimizers/custom_graph_optimizer_registry.cc:113] Plugin optimizer for device_type GPU is enabled.\n",
      "2022-05-30 14:21:43.986045: I tensorflow/core/grappler/optimizers/custom_graph_optimizer_registry.cc:113] Plugin optimizer for device_type GPU is enabled.\n",
      "2022-05-30 14:21:44.239070: I tensorflow/core/grappler/optimizers/custom_graph_optimizer_registry.cc:113] Plugin optimizer for device_type GPU is enabled.\n",
      "2022-05-30 14:21:44.302186: I tensorflow/core/grappler/optimizers/custom_graph_optimizer_registry.cc:113] Plugin optimizer for device_type GPU is enabled.\n",
      "2022-05-30 14:21:44.349970: I tensorflow/core/grappler/optimizers/custom_graph_optimizer_registry.cc:113] Plugin optimizer for device_type GPU is enabled.\n",
      "2022-05-30 14:21:48.032944: I tensorflow/core/grappler/optimizers/custom_graph_optimizer_registry.cc:113] Plugin optimizer for device_type GPU is enabled.\n"
     ]
    },
    {
     "name": "stdout",
     "output_type": "stream",
     "text": [
      "Probabilistic KnockoffNets : 0.5942659\n"
     ]
    },
    {
     "name": "stderr",
     "output_type": "stream",
     "text": [
      "2022-05-30 14:21:49.547831: I tensorflow/core/grappler/optimizers/custom_graph_optimizer_registry.cc:113] Plugin optimizer for device_type GPU is enabled.\n",
      "2022-05-30 14:21:49.805476: I tensorflow/core/grappler/optimizers/custom_graph_optimizer_registry.cc:113] Plugin optimizer for device_type GPU is enabled.\n",
      "2022-05-30 14:21:50.388577: I tensorflow/core/grappler/optimizers/custom_graph_optimizer_registry.cc:113] Plugin optimizer for device_type GPU is enabled.\n",
      "2022-05-30 14:21:50.660471: I tensorflow/core/grappler/optimizers/custom_graph_optimizer_registry.cc:113] Plugin optimizer for device_type GPU is enabled.\n",
      "2022-05-30 14:21:50.730190: I tensorflow/core/grappler/optimizers/custom_graph_optimizer_registry.cc:113] Plugin optimizer for device_type GPU is enabled.\n",
      "2022-05-30 14:21:50.781371: I tensorflow/core/grappler/optimizers/custom_graph_optimizer_registry.cc:113] Plugin optimizer for device_type GPU is enabled.\n",
      "2022-05-30 14:21:54.388091: I tensorflow/core/grappler/optimizers/custom_graph_optimizer_registry.cc:113] Plugin optimizer for device_type GPU is enabled.\n"
     ]
    },
    {
     "name": "stdout",
     "output_type": "stream",
     "text": [
      "Argmax KnockoffNets : 0.61135244\n"
     ]
    },
    {
     "name": "stderr",
     "output_type": "stream",
     "text": [
      "2022-05-30 14:21:55.967642: I tensorflow/core/grappler/optimizers/custom_graph_optimizer_registry.cc:113] Plugin optimizer for device_type GPU is enabled.\n",
      "2022-05-30 14:21:56.261129: I tensorflow/core/grappler/optimizers/custom_graph_optimizer_registry.cc:113] Plugin optimizer for device_type GPU is enabled.\n"
     ]
    },
    {
     "name": "stdout",
     "output_type": "stream",
     "text": [
      "Train on 1000 samples\n"
     ]
    },
    {
     "name": "stderr",
     "output_type": "stream",
     "text": [
      "2022-05-30 14:21:57.937191: I tensorflow/core/grappler/optimizers/custom_graph_optimizer_registry.cc:113] Plugin optimizer for device_type GPU is enabled.\n"
     ]
    },
    {
     "name": "stdout",
     "output_type": "stream",
     "text": [
      "Epoch 1/10\n"
     ]
    },
    {
     "name": "stderr",
     "output_type": "stream",
     "text": [
      "2022-05-30 14:21:58.242862: I tensorflow/core/grappler/optimizers/custom_graph_optimizer_registry.cc:113] Plugin optimizer for device_type GPU is enabled.\n",
      "2022-05-30 14:21:58.314558: I tensorflow/core/grappler/optimizers/custom_graph_optimizer_registry.cc:113] Plugin optimizer for device_type GPU is enabled.\n",
      "2022-05-30 14:21:58.375126: I tensorflow/core/grappler/optimizers/custom_graph_optimizer_registry.cc:113] Plugin optimizer for device_type GPU is enabled.\n"
     ]
    },
    {
     "name": "stdout",
     "output_type": "stream",
     "text": [
      "1000/1000 [==============================] - 2s 2ms/sample - loss: 2.8153 - accuracy: 0.3000\n",
      "Epoch 2/10\n",
      "1000/1000 [==============================] - 1s 639us/sample - loss: 2.4164 - accuracy: 0.3420\n",
      "Epoch 3/10\n",
      "1000/1000 [==============================] - 1s 717us/sample - loss: 2.0626 - accuracy: 0.4440\n",
      "Epoch 4/10\n",
      "1000/1000 [==============================] - 1s 718us/sample - loss: 1.7545 - accuracy: 0.5000\n",
      "Epoch 5/10\n",
      "1000/1000 [==============================] - 1s 696us/sample - loss: 1.4566 - accuracy: 0.5760\n",
      "Epoch 6/10\n",
      "1000/1000 [==============================] - 1s 752us/sample - loss: 1.2238 - accuracy: 0.6460\n",
      "Epoch 7/10\n",
      "1000/1000 [==============================] - 1s 709us/sample - loss: 1.0544 - accuracy: 0.7010\n",
      "Epoch 8/10\n",
      "1000/1000 [==============================] - 1s 811us/sample - loss: 0.9644 - accuracy: 0.7030\n",
      "Epoch 9/10\n",
      "1000/1000 [==============================] - 1s 752us/sample - loss: 0.8280 - accuracy: 0.7550\n",
      "Epoch 10/10\n",
      "1000/1000 [==============================] - 1s 699us/sample - loss: 0.7699 - accuracy: 0.7870\n"
     ]
    },
    {
     "name": "stderr",
     "output_type": "stream",
     "text": [
      "2022-05-30 14:22:06.802860: I tensorflow/core/grappler/optimizers/custom_graph_optimizer_registry.cc:113] Plugin optimizer for device_type GPU is enabled.\n"
     ]
    },
    {
     "name": "stdout",
     "output_type": "stream",
     "text": [
      "Probabilistic CopycatCNN : 0.8226661\n"
     ]
    },
    {
     "name": "stderr",
     "output_type": "stream",
     "text": [
      "2022-05-30 14:22:08.184679: I tensorflow/core/grappler/optimizers/custom_graph_optimizer_registry.cc:113] Plugin optimizer for device_type GPU is enabled.\n",
      "2022-05-30 14:22:08.491748: I tensorflow/core/grappler/optimizers/custom_graph_optimizer_registry.cc:113] Plugin optimizer for device_type GPU is enabled.\n"
     ]
    },
    {
     "name": "stdout",
     "output_type": "stream",
     "text": [
      "Train on 1000 samples\n"
     ]
    },
    {
     "name": "stderr",
     "output_type": "stream",
     "text": [
      "2022-05-30 14:22:09.196050: I tensorflow/core/grappler/optimizers/custom_graph_optimizer_registry.cc:113] Plugin optimizer for device_type GPU is enabled.\n"
     ]
    },
    {
     "name": "stdout",
     "output_type": "stream",
     "text": [
      "Epoch 1/10\n"
     ]
    },
    {
     "name": "stderr",
     "output_type": "stream",
     "text": [
      "2022-05-30 14:22:09.517184: I tensorflow/core/grappler/optimizers/custom_graph_optimizer_registry.cc:113] Plugin optimizer for device_type GPU is enabled.\n",
      "2022-05-30 14:22:09.591994: I tensorflow/core/grappler/optimizers/custom_graph_optimizer_registry.cc:113] Plugin optimizer for device_type GPU is enabled.\n",
      "2022-05-30 14:22:09.652436: I tensorflow/core/grappler/optimizers/custom_graph_optimizer_registry.cc:113] Plugin optimizer for device_type GPU is enabled.\n"
     ]
    },
    {
     "name": "stdout",
     "output_type": "stream",
     "text": [
      "1000/1000 [==============================] - 1s 1ms/sample - loss: 2.7131 - accuracy: 0.2960\n",
      "Epoch 2/10\n",
      "1000/1000 [==============================] - 1s 699us/sample - loss: 2.2511 - accuracy: 0.3880\n",
      "Epoch 3/10\n",
      "1000/1000 [==============================] - 1s 673us/sample - loss: 1.8035 - accuracy: 0.4590\n",
      "Epoch 4/10\n",
      "1000/1000 [==============================] - 1s 932us/sample - loss: 1.5157 - accuracy: 0.5190\n",
      "Epoch 5/10\n",
      "1000/1000 [==============================] - 1s 811us/sample - loss: 1.2631 - accuracy: 0.5930\n",
      "Epoch 6/10\n",
      "1000/1000 [==============================] - 1s 819us/sample - loss: 1.1003 - accuracy: 0.6560\n",
      "Epoch 7/10\n",
      "1000/1000 [==============================] - 1s 752us/sample - loss: 0.9864 - accuracy: 0.6870\n",
      "Epoch 8/10\n",
      "1000/1000 [==============================] - 1s 738us/sample - loss: 0.8782 - accuracy: 0.7240\n",
      "Epoch 9/10\n",
      "1000/1000 [==============================] - 1s 904us/sample - loss: 0.7451 - accuracy: 0.7530\n",
      "Epoch 10/10\n",
      "1000/1000 [==============================] - 1s 733us/sample - loss: 0.6776 - accuracy: 0.7710\n"
     ]
    },
    {
     "name": "stderr",
     "output_type": "stream",
     "text": [
      "2022-05-30 14:22:18.130687: I tensorflow/core/grappler/optimizers/custom_graph_optimizer_registry.cc:113] Plugin optimizer for device_type GPU is enabled.\n"
     ]
    },
    {
     "name": "stdout",
     "output_type": "stream",
     "text": [
      "Argmax CopycatCNN : 0.73583364\n"
     ]
    },
    {
     "name": "stderr",
     "output_type": "stream",
     "text": [
      "2022-05-30 14:22:19.598388: I tensorflow/core/grappler/optimizers/custom_graph_optimizer_registry.cc:113] Plugin optimizer for device_type GPU is enabled.\n",
      "2022-05-30 14:22:19.929663: I tensorflow/core/grappler/optimizers/custom_graph_optimizer_registry.cc:113] Plugin optimizer for device_type GPU is enabled.\n",
      "2022-05-30 14:22:20.699833: I tensorflow/core/grappler/optimizers/custom_graph_optimizer_registry.cc:113] Plugin optimizer for device_type GPU is enabled.\n",
      "2022-05-30 14:22:21.060574: I tensorflow/core/grappler/optimizers/custom_graph_optimizer_registry.cc:113] Plugin optimizer for device_type GPU is enabled.\n",
      "2022-05-30 14:22:21.144350: I tensorflow/core/grappler/optimizers/custom_graph_optimizer_registry.cc:113] Plugin optimizer for device_type GPU is enabled.\n",
      "2022-05-30 14:22:21.209272: I tensorflow/core/grappler/optimizers/custom_graph_optimizer_registry.cc:113] Plugin optimizer for device_type GPU is enabled.\n",
      "2022-05-30 14:22:28.433330: I tensorflow/core/grappler/optimizers/custom_graph_optimizer_registry.cc:113] Plugin optimizer for device_type GPU is enabled.\n"
     ]
    },
    {
     "name": "stdout",
     "output_type": "stream",
     "text": [
      "Probabilistic KnockoffNets : 0.7639625\n"
     ]
    },
    {
     "name": "stderr",
     "output_type": "stream",
     "text": [
      "2022-05-30 14:22:29.957296: I tensorflow/core/grappler/optimizers/custom_graph_optimizer_registry.cc:113] Plugin optimizer for device_type GPU is enabled.\n",
      "2022-05-30 14:22:30.324222: I tensorflow/core/grappler/optimizers/custom_graph_optimizer_registry.cc:113] Plugin optimizer for device_type GPU is enabled.\n",
      "2022-05-30 14:22:31.281247: I tensorflow/core/grappler/optimizers/custom_graph_optimizer_registry.cc:113] Plugin optimizer for device_type GPU is enabled.\n",
      "2022-05-30 14:22:31.707290: I tensorflow/core/grappler/optimizers/custom_graph_optimizer_registry.cc:113] Plugin optimizer for device_type GPU is enabled.\n",
      "2022-05-30 14:22:31.787562: I tensorflow/core/grappler/optimizers/custom_graph_optimizer_registry.cc:113] Plugin optimizer for device_type GPU is enabled.\n",
      "2022-05-30 14:22:31.855845: I tensorflow/core/grappler/optimizers/custom_graph_optimizer_registry.cc:113] Plugin optimizer for device_type GPU is enabled.\n",
      "2022-05-30 14:22:39.737093: I tensorflow/core/grappler/optimizers/custom_graph_optimizer_registry.cc:113] Plugin optimizer for device_type GPU is enabled.\n"
     ]
    },
    {
     "name": "stdout",
     "output_type": "stream",
     "text": [
      "Argmax KnockoffNets : 0.77863836\n"
     ]
    },
    {
     "name": "stderr",
     "output_type": "stream",
     "text": [
      "2022-05-30 14:22:41.380951: I tensorflow/core/grappler/optimizers/custom_graph_optimizer_registry.cc:113] Plugin optimizer for device_type GPU is enabled.\n",
      "2022-05-30 14:22:41.805879: I tensorflow/core/grappler/optimizers/custom_graph_optimizer_registry.cc:113] Plugin optimizer for device_type GPU is enabled.\n"
     ]
    },
    {
     "name": "stdout",
     "output_type": "stream",
     "text": [
      "Train on 2000 samples\n"
     ]
    },
    {
     "name": "stderr",
     "output_type": "stream",
     "text": [
      "2022-05-30 14:22:42.933511: I tensorflow/core/grappler/optimizers/custom_graph_optimizer_registry.cc:113] Plugin optimizer for device_type GPU is enabled.\n"
     ]
    },
    {
     "name": "stdout",
     "output_type": "stream",
     "text": [
      "Epoch 1/10\n"
     ]
    },
    {
     "name": "stderr",
     "output_type": "stream",
     "text": [
      "2022-05-30 14:22:43.353494: I tensorflow/core/grappler/optimizers/custom_graph_optimizer_registry.cc:113] Plugin optimizer for device_type GPU is enabled.\n",
      "2022-05-30 14:22:43.453219: I tensorflow/core/grappler/optimizers/custom_graph_optimizer_registry.cc:113] Plugin optimizer for device_type GPU is enabled.\n",
      "2022-05-30 14:22:43.527102: I tensorflow/core/grappler/optimizers/custom_graph_optimizer_registry.cc:113] Plugin optimizer for device_type GPU is enabled.\n"
     ]
    },
    {
     "name": "stdout",
     "output_type": "stream",
     "text": [
      "2000/2000 [==============================] - 2s 1ms/sample - loss: 2.5315 - accuracy: 0.3220\n",
      "Epoch 2/10\n",
      "2000/2000 [==============================] - 1s 658us/sample - loss: 1.8490 - accuracy: 0.4535\n",
      "Epoch 3/10\n",
      "2000/2000 [==============================] - 2s 796us/sample - loss: 1.3874 - accuracy: 0.5675\n",
      "Epoch 4/10\n",
      "2000/2000 [==============================] - 1s 738us/sample - loss: 1.0902 - accuracy: 0.6430\n",
      "Epoch 5/10\n",
      "2000/2000 [==============================] - 2s 804us/sample - loss: 0.8454 - accuracy: 0.7260\n",
      "Epoch 6/10\n",
      "2000/2000 [==============================] - 2s 750us/sample - loss: 0.7215 - accuracy: 0.7740\n",
      "Epoch 7/10\n",
      "2000/2000 [==============================] - 2s 793us/sample - loss: 0.6261 - accuracy: 0.8115\n",
      "Epoch 8/10\n",
      "2000/2000 [==============================] - 2s 878us/sample - loss: 0.5267 - accuracy: 0.8630\n",
      "Epoch 9/10\n",
      "2000/2000 [==============================] - 1s 680us/sample - loss: 0.4561 - accuracy: 0.8835\n",
      "Epoch 10/10\n",
      "2000/2000 [==============================] - 1s 684us/sample - loss: 0.4334 - accuracy: 0.9035\n"
     ]
    },
    {
     "name": "stderr",
     "output_type": "stream",
     "text": [
      "2022-05-30 14:22:59.597387: I tensorflow/core/grappler/optimizers/custom_graph_optimizer_registry.cc:113] Plugin optimizer for device_type GPU is enabled.\n"
     ]
    },
    {
     "name": "stdout",
     "output_type": "stream",
     "text": [
      "Probabilistic CopycatCNN : 0.9050773\n"
     ]
    },
    {
     "name": "stderr",
     "output_type": "stream",
     "text": [
      "2022-05-30 14:23:00.982825: I tensorflow/core/grappler/optimizers/custom_graph_optimizer_registry.cc:113] Plugin optimizer for device_type GPU is enabled.\n",
      "2022-05-30 14:23:01.377505: I tensorflow/core/grappler/optimizers/custom_graph_optimizer_registry.cc:113] Plugin optimizer for device_type GPU is enabled.\n"
     ]
    },
    {
     "name": "stdout",
     "output_type": "stream",
     "text": [
      "Train on 2000 samples\n"
     ]
    },
    {
     "name": "stderr",
     "output_type": "stream",
     "text": [
      "2022-05-30 14:23:02.544990: I tensorflow/core/grappler/optimizers/custom_graph_optimizer_registry.cc:113] Plugin optimizer for device_type GPU is enabled.\n"
     ]
    },
    {
     "name": "stdout",
     "output_type": "stream",
     "text": [
      "Epoch 1/10\n"
     ]
    },
    {
     "name": "stderr",
     "output_type": "stream",
     "text": [
      "2022-05-30 14:23:02.956078: I tensorflow/core/grappler/optimizers/custom_graph_optimizer_registry.cc:113] Plugin optimizer for device_type GPU is enabled.\n",
      "2022-05-30 14:23:03.048633: I tensorflow/core/grappler/optimizers/custom_graph_optimizer_registry.cc:113] Plugin optimizer for device_type GPU is enabled.\n",
      "2022-05-30 14:23:03.122221: I tensorflow/core/grappler/optimizers/custom_graph_optimizer_registry.cc:113] Plugin optimizer for device_type GPU is enabled.\n"
     ]
    },
    {
     "name": "stdout",
     "output_type": "stream",
     "text": [
      "2000/2000 [==============================] - 2s 875us/sample - loss: 2.4428 - accuracy: 0.3185\n",
      "Epoch 2/10\n",
      "2000/2000 [==============================] - 1s 730us/sample - loss: 1.7659 - accuracy: 0.4415\n",
      "Epoch 3/10\n",
      "2000/2000 [==============================] - 1s 722us/sample - loss: 1.3773 - accuracy: 0.5245\n",
      "Epoch 4/10\n",
      "2000/2000 [==============================] - 1s 672us/sample - loss: 1.0434 - accuracy: 0.6390\n",
      "Epoch 5/10\n",
      "2000/2000 [==============================] - 1s 670us/sample - loss: 0.7976 - accuracy: 0.7355\n",
      "Epoch 6/10\n",
      "2000/2000 [==============================] - 1s 673us/sample - loss: 0.6583 - accuracy: 0.7960\n",
      "Epoch 7/10\n",
      "2000/2000 [==============================] - 1s 679us/sample - loss: 0.4941 - accuracy: 0.8540\n",
      "Epoch 8/10\n",
      "2000/2000 [==============================] - 1s 681us/sample - loss: 0.3855 - accuracy: 0.8950\n",
      "Epoch 9/10\n",
      "2000/2000 [==============================] - 1s 674us/sample - loss: 0.2917 - accuracy: 0.9140\n",
      "Epoch 10/10\n",
      "2000/2000 [==============================] - 1s 703us/sample - loss: 0.2476 - accuracy: 0.9325\n"
     ]
    },
    {
     "name": "stderr",
     "output_type": "stream",
     "text": [
      "2022-05-30 14:23:17.677874: I tensorflow/core/grappler/optimizers/custom_graph_optimizer_registry.cc:113] Plugin optimizer for device_type GPU is enabled.\n"
     ]
    },
    {
     "name": "stdout",
     "output_type": "stream",
     "text": [
      "Argmax CopycatCNN : 0.9072848\n"
     ]
    },
    {
     "name": "stderr",
     "output_type": "stream",
     "text": [
      "2022-05-30 14:23:18.742690: I tensorflow/core/grappler/optimizers/custom_graph_optimizer_registry.cc:113] Plugin optimizer for device_type GPU is enabled.\n",
      "2022-05-30 14:23:19.161430: I tensorflow/core/grappler/optimizers/custom_graph_optimizer_registry.cc:113] Plugin optimizer for device_type GPU is enabled.\n",
      "2022-05-30 14:23:20.248513: I tensorflow/core/grappler/optimizers/custom_graph_optimizer_registry.cc:113] Plugin optimizer for device_type GPU is enabled.\n",
      "2022-05-30 14:23:20.677119: I tensorflow/core/grappler/optimizers/custom_graph_optimizer_registry.cc:113] Plugin optimizer for device_type GPU is enabled.\n",
      "2022-05-30 14:23:20.769932: I tensorflow/core/grappler/optimizers/custom_graph_optimizer_registry.cc:113] Plugin optimizer for device_type GPU is enabled.\n",
      "2022-05-30 14:23:20.852501: I tensorflow/core/grappler/optimizers/custom_graph_optimizer_registry.cc:113] Plugin optimizer for device_type GPU is enabled.\n",
      "2022-05-30 14:23:36.804954: I tensorflow/core/grappler/optimizers/custom_graph_optimizer_registry.cc:113] Plugin optimizer for device_type GPU is enabled.\n"
     ]
    },
    {
     "name": "stdout",
     "output_type": "stream",
     "text": [
      "Probabilistic KnockoffNets : 0.9161148\n"
     ]
    },
    {
     "name": "stderr",
     "output_type": "stream",
     "text": [
      "2022-05-30 14:23:37.946704: I tensorflow/core/grappler/optimizers/custom_graph_optimizer_registry.cc:113] Plugin optimizer for device_type GPU is enabled.\n",
      "2022-05-30 14:23:38.385886: I tensorflow/core/grappler/optimizers/custom_graph_optimizer_registry.cc:113] Plugin optimizer for device_type GPU is enabled.\n",
      "2022-05-30 14:23:39.537134: I tensorflow/core/grappler/optimizers/custom_graph_optimizer_registry.cc:113] Plugin optimizer for device_type GPU is enabled.\n",
      "2022-05-30 14:23:40.081989: I tensorflow/core/grappler/optimizers/custom_graph_optimizer_registry.cc:113] Plugin optimizer for device_type GPU is enabled.\n",
      "2022-05-30 14:23:40.180365: I tensorflow/core/grappler/optimizers/custom_graph_optimizer_registry.cc:113] Plugin optimizer for device_type GPU is enabled.\n",
      "2022-05-30 14:23:40.276066: I tensorflow/core/grappler/optimizers/custom_graph_optimizer_registry.cc:113] Plugin optimizer for device_type GPU is enabled.\n",
      "2022-05-30 14:23:55.347554: I tensorflow/core/grappler/optimizers/custom_graph_optimizer_registry.cc:113] Plugin optimizer for device_type GPU is enabled.\n"
     ]
    },
    {
     "name": "stdout",
     "output_type": "stream",
     "text": [
      "Argmax KnockoffNets : 0.9072848\n"
     ]
    },
    {
     "name": "stderr",
     "output_type": "stream",
     "text": [
      "2022-05-30 14:23:56.367542: I tensorflow/core/grappler/optimizers/custom_graph_optimizer_registry.cc:113] Plugin optimizer for device_type GPU is enabled.\n",
      "2022-05-30 14:23:56.822275: I tensorflow/core/grappler/optimizers/custom_graph_optimizer_registry.cc:113] Plugin optimizer for device_type GPU is enabled.\n"
     ]
    },
    {
     "name": "stdout",
     "output_type": "stream",
     "text": [
      "Train on 453 samples\n"
     ]
    },
    {
     "name": "stderr",
     "output_type": "stream",
     "text": [
      "2022-05-30 14:23:57.773181: I tensorflow/core/grappler/optimizers/custom_graph_optimizer_registry.cc:113] Plugin optimizer for device_type GPU is enabled.\n"
     ]
    },
    {
     "name": "stdout",
     "output_type": "stream",
     "text": [
      "Epoch 1/10\n"
     ]
    },
    {
     "name": "stderr",
     "output_type": "stream",
     "text": [
      "2022-05-30 14:23:58.248979: I tensorflow/core/grappler/optimizers/custom_graph_optimizer_registry.cc:113] Plugin optimizer for device_type GPU is enabled.\n",
      "2022-05-30 14:23:58.352528: I tensorflow/core/grappler/optimizers/custom_graph_optimizer_registry.cc:113] Plugin optimizer for device_type GPU is enabled.\n",
      "2022-05-30 14:23:58.443011: I tensorflow/core/grappler/optimizers/custom_graph_optimizer_registry.cc:113] Plugin optimizer for device_type GPU is enabled.\n"
     ]
    },
    {
     "name": "stdout",
     "output_type": "stream",
     "text": [
      "453/453 [==============================] - 1s 2ms/sample - loss: 2.9294 - accuracy: 0.1656\n",
      "Epoch 2/10\n",
      "453/453 [==============================] - 0s 596us/sample - loss: 2.6422 - accuracy: 0.2627\n",
      "Epoch 3/10\n",
      "453/453 [==============================] - 0s 545us/sample - loss: 2.4577 - accuracy: 0.2781\n",
      "Epoch 4/10\n",
      "453/453 [==============================] - 0s 722us/sample - loss: 2.2700 - accuracy: 0.3466\n",
      "Epoch 5/10\n",
      "453/453 [==============================] - 0s 811us/sample - loss: 2.0522 - accuracy: 0.4062\n",
      "Epoch 6/10\n",
      "453/453 [==============================] - 0s 916us/sample - loss: 1.9474 - accuracy: 0.4327\n",
      "Epoch 7/10\n",
      "453/453 [==============================] - 0s 788us/sample - loss: 1.8474 - accuracy: 0.4614\n",
      "Epoch 8/10\n",
      "453/453 [==============================] - 0s 875us/sample - loss: 1.7023 - accuracy: 0.4724\n",
      "Epoch 9/10\n",
      "453/453 [==============================] - 0s 812us/sample - loss: 1.5411 - accuracy: 0.5166\n",
      "Epoch 10/10\n",
      "453/453 [==============================] - 0s 738us/sample - loss: 1.4413 - accuracy: 0.5430\n"
     ]
    },
    {
     "ename": "ValueError",
     "evalue": "Empty training data.",
     "output_type": "error",
     "traceback": [
      "\u001b[0;31m---------------------------------------------------------------------------\u001b[0m",
      "\u001b[0;31mValueError\u001b[0m                                Traceback (most recent call last)",
      "\u001b[1;32m/Users/sergiomarchena/Documents/security data science/proyecto3/main.ipynb Cell 20'\u001b[0m in \u001b[0;36m<cell line: 2>\u001b[0;34m()\u001b[0m\n\u001b[1;32m     <a href='vscode-notebook-cell:/Users/sergiomarchena/Documents/security%20data%20science/proyecto3/main.ipynb#ch0000016?line=10'>11</a>\u001b[0m classifier_stolen \u001b[39m=\u001b[39m KerasClassifier(model_stolen, clip_values\u001b[39m=\u001b[39m(\u001b[39m0\u001b[39m, \u001b[39m1\u001b[39m), use_logits\u001b[39m=\u001b[39m\u001b[39mFalse\u001b[39;00m)\n\u001b[1;32m     <a href='vscode-notebook-cell:/Users/sergiomarchena/Documents/security%20data%20science/proyecto3/main.ipynb#ch0000016?line=11'>12</a>\u001b[0m classifier_stolen \u001b[39m=\u001b[39m attack\u001b[39m.\u001b[39mextract(x_steal, y_steal, thieved_classifier\u001b[39m=\u001b[39mclassifier_stolen)\n\u001b[0;32m---> <a href='vscode-notebook-cell:/Users/sergiomarchena/Documents/security%20data%20science/proyecto3/main.ipynb#ch0000016?line=12'>13</a>\u001b[0m acc \u001b[39m=\u001b[39m classifier_stolen\u001b[39m.\u001b[39;49m_model\u001b[39m.\u001b[39;49mevaluate(x_test, y_test)[\u001b[39m1\u001b[39m]\n\u001b[1;32m     <a href='vscode-notebook-cell:/Users/sergiomarchena/Documents/security%20data%20science/proyecto3/main.ipynb#ch0000016?line=13'>14</a>\u001b[0m \u001b[39mprint\u001b[39m(name, \u001b[39m\"\u001b[39m\u001b[39m:\u001b[39m\u001b[39m\"\u001b[39m, acc)\n\u001b[1;32m     <a href='vscode-notebook-cell:/Users/sergiomarchena/Documents/security%20data%20science/proyecto3/main.ipynb#ch0000016?line=14'>15</a>\u001b[0m results\u001b[39m.\u001b[39mappend((name, len_steal, acc))\n",
      "File \u001b[0;32m~/miniforge3/envs/MLvenv/lib/python3.8/site-packages/keras/engine/training_v1.py:891\u001b[0m, in \u001b[0;36mModel.evaluate\u001b[0;34m(self, x, y, batch_size, verbose, sample_weight, steps, callbacks, max_queue_size, workers, use_multiprocessing)\u001b[0m\n\u001b[1;32m    <a href='file:///Users/sergiomarchena/miniforge3/envs/MLvenv/lib/python3.8/site-packages/keras/engine/training_v1.py?line=887'>888</a>\u001b[0m \u001b[39mself\u001b[39m\u001b[39m.\u001b[39m_check_call_args(\u001b[39m'\u001b[39m\u001b[39mevaluate\u001b[39m\u001b[39m'\u001b[39m)\n\u001b[1;32m    <a href='file:///Users/sergiomarchena/miniforge3/envs/MLvenv/lib/python3.8/site-packages/keras/engine/training_v1.py?line=889'>890</a>\u001b[0m func \u001b[39m=\u001b[39m \u001b[39mself\u001b[39m\u001b[39m.\u001b[39m_select_training_loop(x)\n\u001b[0;32m--> <a href='file:///Users/sergiomarchena/miniforge3/envs/MLvenv/lib/python3.8/site-packages/keras/engine/training_v1.py?line=890'>891</a>\u001b[0m \u001b[39mreturn\u001b[39;00m func\u001b[39m.\u001b[39;49mevaluate(\n\u001b[1;32m    <a href='file:///Users/sergiomarchena/miniforge3/envs/MLvenv/lib/python3.8/site-packages/keras/engine/training_v1.py?line=891'>892</a>\u001b[0m     \u001b[39mself\u001b[39;49m,\n\u001b[1;32m    <a href='file:///Users/sergiomarchena/miniforge3/envs/MLvenv/lib/python3.8/site-packages/keras/engine/training_v1.py?line=892'>893</a>\u001b[0m     x\u001b[39m=\u001b[39;49mx,\n\u001b[1;32m    <a href='file:///Users/sergiomarchena/miniforge3/envs/MLvenv/lib/python3.8/site-packages/keras/engine/training_v1.py?line=893'>894</a>\u001b[0m     y\u001b[39m=\u001b[39;49my,\n\u001b[1;32m    <a href='file:///Users/sergiomarchena/miniforge3/envs/MLvenv/lib/python3.8/site-packages/keras/engine/training_v1.py?line=894'>895</a>\u001b[0m     batch_size\u001b[39m=\u001b[39;49mbatch_size,\n\u001b[1;32m    <a href='file:///Users/sergiomarchena/miniforge3/envs/MLvenv/lib/python3.8/site-packages/keras/engine/training_v1.py?line=895'>896</a>\u001b[0m     verbose\u001b[39m=\u001b[39;49mverbose,\n\u001b[1;32m    <a href='file:///Users/sergiomarchena/miniforge3/envs/MLvenv/lib/python3.8/site-packages/keras/engine/training_v1.py?line=896'>897</a>\u001b[0m     sample_weight\u001b[39m=\u001b[39;49msample_weight,\n\u001b[1;32m    <a href='file:///Users/sergiomarchena/miniforge3/envs/MLvenv/lib/python3.8/site-packages/keras/engine/training_v1.py?line=897'>898</a>\u001b[0m     steps\u001b[39m=\u001b[39;49msteps,\n\u001b[1;32m    <a href='file:///Users/sergiomarchena/miniforge3/envs/MLvenv/lib/python3.8/site-packages/keras/engine/training_v1.py?line=898'>899</a>\u001b[0m     callbacks\u001b[39m=\u001b[39;49mcallbacks,\n\u001b[1;32m    <a href='file:///Users/sergiomarchena/miniforge3/envs/MLvenv/lib/python3.8/site-packages/keras/engine/training_v1.py?line=899'>900</a>\u001b[0m     max_queue_size\u001b[39m=\u001b[39;49mmax_queue_size,\n\u001b[1;32m    <a href='file:///Users/sergiomarchena/miniforge3/envs/MLvenv/lib/python3.8/site-packages/keras/engine/training_v1.py?line=900'>901</a>\u001b[0m     workers\u001b[39m=\u001b[39;49mworkers,\n\u001b[1;32m    <a href='file:///Users/sergiomarchena/miniforge3/envs/MLvenv/lib/python3.8/site-packages/keras/engine/training_v1.py?line=901'>902</a>\u001b[0m     use_multiprocessing\u001b[39m=\u001b[39;49muse_multiprocessing)\n",
      "File \u001b[0;32m~/miniforge3/envs/MLvenv/lib/python3.8/site-packages/keras/engine/training_arrays_v1.py:679\u001b[0m, in \u001b[0;36mArrayLikeTrainingLoop.evaluate\u001b[0;34m(self, model, x, y, batch_size, verbose, sample_weight, steps, callbacks, **kwargs)\u001b[0m\n\u001b[1;32m    <a href='file:///Users/sergiomarchena/miniforge3/envs/MLvenv/lib/python3.8/site-packages/keras/engine/training_arrays_v1.py?line=669'>670</a>\u001b[0m batch_size \u001b[39m=\u001b[39m model\u001b[39m.\u001b[39m_validate_or_infer_batch_size(batch_size, steps, x)\n\u001b[1;32m    <a href='file:///Users/sergiomarchena/miniforge3/envs/MLvenv/lib/python3.8/site-packages/keras/engine/training_arrays_v1.py?line=670'>671</a>\u001b[0m x, y, sample_weights \u001b[39m=\u001b[39m model\u001b[39m.\u001b[39m_standardize_user_data(\n\u001b[1;32m    <a href='file:///Users/sergiomarchena/miniforge3/envs/MLvenv/lib/python3.8/site-packages/keras/engine/training_arrays_v1.py?line=671'>672</a>\u001b[0m     x,\n\u001b[1;32m    <a href='file:///Users/sergiomarchena/miniforge3/envs/MLvenv/lib/python3.8/site-packages/keras/engine/training_arrays_v1.py?line=672'>673</a>\u001b[0m     y,\n\u001b[0;32m   (...)\u001b[0m\n\u001b[1;32m    <a href='file:///Users/sergiomarchena/miniforge3/envs/MLvenv/lib/python3.8/site-packages/keras/engine/training_arrays_v1.py?line=676'>677</a>\u001b[0m     steps_name\u001b[39m=\u001b[39m\u001b[39m'\u001b[39m\u001b[39msteps\u001b[39m\u001b[39m'\u001b[39m,\n\u001b[1;32m    <a href='file:///Users/sergiomarchena/miniforge3/envs/MLvenv/lib/python3.8/site-packages/keras/engine/training_arrays_v1.py?line=677'>678</a>\u001b[0m     steps\u001b[39m=\u001b[39msteps)\n\u001b[0;32m--> <a href='file:///Users/sergiomarchena/miniforge3/envs/MLvenv/lib/python3.8/site-packages/keras/engine/training_arrays_v1.py?line=678'>679</a>\u001b[0m \u001b[39mreturn\u001b[39;00m test_loop(\n\u001b[1;32m    <a href='file:///Users/sergiomarchena/miniforge3/envs/MLvenv/lib/python3.8/site-packages/keras/engine/training_arrays_v1.py?line=679'>680</a>\u001b[0m     model,\n\u001b[1;32m    <a href='file:///Users/sergiomarchena/miniforge3/envs/MLvenv/lib/python3.8/site-packages/keras/engine/training_arrays_v1.py?line=680'>681</a>\u001b[0m     inputs\u001b[39m=\u001b[39;49mx,\n\u001b[1;32m    <a href='file:///Users/sergiomarchena/miniforge3/envs/MLvenv/lib/python3.8/site-packages/keras/engine/training_arrays_v1.py?line=681'>682</a>\u001b[0m     targets\u001b[39m=\u001b[39;49my,\n\u001b[1;32m    <a href='file:///Users/sergiomarchena/miniforge3/envs/MLvenv/lib/python3.8/site-packages/keras/engine/training_arrays_v1.py?line=682'>683</a>\u001b[0m     sample_weights\u001b[39m=\u001b[39;49msample_weights,\n\u001b[1;32m    <a href='file:///Users/sergiomarchena/miniforge3/envs/MLvenv/lib/python3.8/site-packages/keras/engine/training_arrays_v1.py?line=683'>684</a>\u001b[0m     batch_size\u001b[39m=\u001b[39;49mbatch_size,\n\u001b[1;32m    <a href='file:///Users/sergiomarchena/miniforge3/envs/MLvenv/lib/python3.8/site-packages/keras/engine/training_arrays_v1.py?line=684'>685</a>\u001b[0m     verbose\u001b[39m=\u001b[39;49mverbose,\n\u001b[1;32m    <a href='file:///Users/sergiomarchena/miniforge3/envs/MLvenv/lib/python3.8/site-packages/keras/engine/training_arrays_v1.py?line=685'>686</a>\u001b[0m     steps\u001b[39m=\u001b[39;49msteps,\n\u001b[1;32m    <a href='file:///Users/sergiomarchena/miniforge3/envs/MLvenv/lib/python3.8/site-packages/keras/engine/training_arrays_v1.py?line=686'>687</a>\u001b[0m     callbacks\u001b[39m=\u001b[39;49mcallbacks)\n",
      "File \u001b[0;32m~/miniforge3/envs/MLvenv/lib/python3.8/site-packages/keras/engine/training_arrays_v1.py:393\u001b[0m, in \u001b[0;36mmodel_iteration\u001b[0;34m(model, inputs, targets, sample_weights, batch_size, epochs, verbose, callbacks, val_inputs, val_targets, val_sample_weights, shuffle, initial_epoch, steps_per_epoch, validation_steps, validation_freq, mode, validation_in_fit, prepared_feed_values_from_dataset, steps_name, **kwargs)\u001b[0m\n\u001b[1;32m    <a href='file:///Users/sergiomarchena/miniforge3/envs/MLvenv/lib/python3.8/site-packages/keras/engine/training_arrays_v1.py?line=389'>390</a>\u001b[0m     \u001b[39mif\u001b[39;00m callbacks\u001b[39m.\u001b[39mmodel\u001b[39m.\u001b[39mstop_training:\n\u001b[1;32m    <a href='file:///Users/sergiomarchena/miniforge3/envs/MLvenv/lib/python3.8/site-packages/keras/engine/training_arrays_v1.py?line=390'>391</a>\u001b[0m       \u001b[39mbreak\u001b[39;00m\n\u001b[0;32m--> <a href='file:///Users/sergiomarchena/miniforge3/envs/MLvenv/lib/python3.8/site-packages/keras/engine/training_arrays_v1.py?line=392'>393</a>\u001b[0m aggregator\u001b[39m.\u001b[39;49mfinalize()\n\u001b[1;32m    <a href='file:///Users/sergiomarchena/miniforge3/envs/MLvenv/lib/python3.8/site-packages/keras/engine/training_arrays_v1.py?line=393'>394</a>\u001b[0m results \u001b[39m=\u001b[39m aggregator\u001b[39m.\u001b[39mresults\n\u001b[1;32m    <a href='file:///Users/sergiomarchena/miniforge3/envs/MLvenv/lib/python3.8/site-packages/keras/engine/training_arrays_v1.py?line=394'>395</a>\u001b[0m epoch_logs \u001b[39m=\u001b[39m cbks\u001b[39m.\u001b[39mmake_logs(model, epoch_logs, results, mode)\n",
      "File \u001b[0;32m~/miniforge3/envs/MLvenv/lib/python3.8/site-packages/keras/engine/training_utils_v1.py:127\u001b[0m, in \u001b[0;36mMetricsAggregator.finalize\u001b[0;34m(self)\u001b[0m\n\u001b[1;32m    <a href='file:///Users/sergiomarchena/miniforge3/envs/MLvenv/lib/python3.8/site-packages/keras/engine/training_utils_v1.py?line=124'>125</a>\u001b[0m \u001b[39mdef\u001b[39;00m \u001b[39mfinalize\u001b[39m(\u001b[39mself\u001b[39m):\n\u001b[1;32m    <a href='file:///Users/sergiomarchena/miniforge3/envs/MLvenv/lib/python3.8/site-packages/keras/engine/training_utils_v1.py?line=125'>126</a>\u001b[0m   \u001b[39mif\u001b[39;00m \u001b[39mnot\u001b[39;00m \u001b[39mself\u001b[39m\u001b[39m.\u001b[39mresults:\n\u001b[0;32m--> <a href='file:///Users/sergiomarchena/miniforge3/envs/MLvenv/lib/python3.8/site-packages/keras/engine/training_utils_v1.py?line=126'>127</a>\u001b[0m     \u001b[39mraise\u001b[39;00m \u001b[39mValueError\u001b[39;00m(\u001b[39m'\u001b[39m\u001b[39mEmpty training data.\u001b[39m\u001b[39m'\u001b[39m)\n\u001b[1;32m    <a href='file:///Users/sergiomarchena/miniforge3/envs/MLvenv/lib/python3.8/site-packages/keras/engine/training_utils_v1.py?line=127'>128</a>\u001b[0m   \u001b[39mself\u001b[39m\u001b[39m.\u001b[39mresults[\u001b[39m0\u001b[39m] \u001b[39m/\u001b[39m\u001b[39m=\u001b[39m (\u001b[39mself\u001b[39m\u001b[39m.\u001b[39mnum_samples \u001b[39mor\u001b[39;00m \u001b[39mself\u001b[39m\u001b[39m.\u001b[39msteps)\n",
      "\u001b[0;31mValueError\u001b[0m: Empty training data."
     ]
    }
   ],
   "source": [
    "results = []\n",
    "for len_steal in [250, 500, 1000, 2000, 3000, 4000]:\n",
    "    indices = np.random.permutation(len(x_test))\n",
    "    x_steal = x_test[indices[:len_steal]]\n",
    "    y_steal = y_test[indices[:len_steal]]\n",
    "    x_test = x_test[indices[len_steal:]]\n",
    "    y_test = y_test[indices[len_steal:]]\n",
    "\n",
    "    for name, attack in attack_catalogue.items():\n",
    "        model_stolen = stealed_model()\n",
    "        classifier_stolen = KerasClassifier(model_stolen, clip_values=(0, 1), use_logits=False)\n",
    "        classifier_stolen = attack.extract(x_steal, y_steal, thieved_classifier=classifier_stolen)\n",
    "        acc = classifier_stolen._model.evaluate(x_test, y_test)[1]\n",
    "        print(name, \":\", acc)\n",
    "        results.append((name, len_steal, acc))"
   ]
  },
  {
   "cell_type": "code",
   "execution_count": 80,
   "metadata": {},
   "outputs": [
    {
     "data": {
      "image/png": "[encoded data removed]",
      "text/plain": [
       "<Figure size 576x432 with 1 Axes>"
      ]
     },
     "metadata": {
      "needs_background": "light"
     },
     "output_type": "display_data"
    }
   ],
   "source": [
    "# gráfica el accuracy del modelo robado, contra el tamaño del dataset \n",
    "df = pd.DataFrame(results, columns=('Method Name', 'Stealing Dataset Size', 'Accuracy'))\n",
    "fig, ax = plt.subplots(figsize=(8,6))\n",
    "ax.set_xlabel(\"Stealing Dataset Size\")\n",
    "ax.set_ylabel(\"Stolen Model Accuracy\")\n",
    "for name, group in df.groupby(\"Method Name\"):\n",
    "    group.plot(1, 2, ax=ax, label=name)\n",
    "plt.show()"
   ]
  },
  {
   "cell_type": "markdown",
   "metadata": {},
   "source": [
    "Para los modelos probabilisticos, el ataque KnockoffNets llega a tener un accuracy mas alto que el CopycatCNN. Mientras que en los no probablisticos (argmax), son muy parecidos, aunque KnockoffNets es un poco mas accurate. "
   ]
  },
  {
   "cell_type": "code",
   "execution_count": 82,
   "metadata": {},
   "outputs": [],
   "source": [
    "# capa de defensa\n",
    "from art.defences.postprocessor import ReverseSigmoid\n",
    "\n",
    "postprocessor = ReverseSigmoid(beta = 1.0, gamma = 0.2)\n",
    "classifier_protected = KerasClassifier(loaded_model, clip_values=(0, 1), use_logits=False, postprocessing_defences=postprocessor)\n",
    "\n",
    "# En la siguiente parte se usa `FunctionallyEquivalentExtraction` pero toma demasiado tiempo\n",
    "model_flat = Sequential([InputLayer([64, 64, 3]), Reshape([64, 64, 3]), loaded_model])\n",
    "model_flat.compile('sgd', 'categorical_crossentropy', ['accuracy'])\n",
    "classifier_flat_protected = KerasClassifier(model_flat, clip_values=(0, 1), use_logits=False, postprocessing_defences=postprocessor)"
   ]
  },
  {
   "cell_type": "code",
   "execution_count": 83,
   "metadata": {},
   "outputs": [],
   "source": [
    "# stealing models again\n",
    "num_epochs = 10\n",
    "len_steal = 5000\n",
    "attack_catalogue = {\n",
    "                    \"Probabilistic CopycatCNN (vs. Protected)\": CopycatCNN(classifier=classifier_protected,\n",
    "                                              batch_size_fit=64,\n",
    "                                              batch_size_query=64,\n",
    "                                              nb_epochs=num_epochs,\n",
    "                                              nb_stolen=len_steal,\n",
    "                                              use_probability=True),\n",
    "                    \"Argmax CopycatCNN (vs. Protected)\": CopycatCNN(classifier=classifier_protected,\n",
    "                                              batch_size_fit=64,\n",
    "                                              batch_size_query=64,\n",
    "                                              nb_epochs=num_epochs,\n",
    "                                              nb_stolen=len_steal,\n",
    "                                              use_probability=False),\n",
    "                    \"Probabilistic KnockoffNets (vs. Protected)\": KnockoffNets(classifier=classifier_protected,\n",
    "                                              batch_size_fit=64,\n",
    "                                              batch_size_query=64,\n",
    "                                              nb_epochs=num_epochs,\n",
    "                                              nb_stolen=len_steal,\n",
    "                                              use_probability=True),\n",
    "                    \"Argmax KnockoffNets (vs. Protected)\": KnockoffNets(classifier=classifier_protected,\n",
    "                                              batch_size_fit=64,\n",
    "                                              batch_size_query=64,\n",
    "                                              nb_epochs=num_epochs,\n",
    "                                              nb_stolen=len_steal,\n",
    "                                              use_probability=False),\n",
    "}"
   ]
  },
  {
   "cell_type": "code",
   "execution_count": 86,
   "metadata": {},
   "outputs": [
    {
     "name": "stderr",
     "output_type": "stream",
     "text": [
      "2022-05-30 14:31:17.551126: I tensorflow/core/grappler/optimizers/custom_graph_optimizer_registry.cc:113] Plugin optimizer for device_type GPU is enabled.\n",
      "2022-05-30 14:31:18.074547: I tensorflow/core/grappler/optimizers/custom_graph_optimizer_registry.cc:113] Plugin optimizer for device_type GPU is enabled.\n"
     ]
    },
    {
     "name": "stdout",
     "output_type": "stream",
     "text": [
      "Train on 250 samples\n"
     ]
    },
    {
     "name": "stderr",
     "output_type": "stream",
     "text": [
      "2022-05-30 14:31:20.575916: I tensorflow/core/grappler/optimizers/custom_graph_optimizer_registry.cc:113] Plugin optimizer for device_type GPU is enabled.\n"
     ]
    },
    {
     "name": "stdout",
     "output_type": "stream",
     "text": [
      "Epoch 1/10\n"
     ]
    },
    {
     "name": "stderr",
     "output_type": "stream",
     "text": [
      "2022-05-30 14:31:21.121028: I tensorflow/core/grappler/optimizers/custom_graph_optimizer_registry.cc:113] Plugin optimizer for device_type GPU is enabled.\n",
      "2022-05-30 14:31:21.235695: I tensorflow/core/grappler/optimizers/custom_graph_optimizer_registry.cc:113] Plugin optimizer for device_type GPU is enabled.\n",
      "2022-05-30 14:31:21.333499: I tensorflow/core/grappler/optimizers/custom_graph_optimizer_registry.cc:113] Plugin optimizer for device_type GPU is enabled.\n"
     ]
    },
    {
     "name": "stdout",
     "output_type": "stream",
     "text": [
      "250/250 [==============================] - 1s 3ms/sample - loss: 3.2247 - accuracy: 0.0560\n",
      "Epoch 2/10\n",
      "250/250 [==============================] - 0s 620us/sample - loss: 3.2182 - accuracy: 0.1680\n",
      "Epoch 3/10\n",
      "250/250 [==============================] - 0s 861us/sample - loss: 3.2176 - accuracy: 0.1840\n",
      "Epoch 4/10\n",
      "250/250 [==============================] - 0s 845us/sample - loss: 3.2173 - accuracy: 0.1400\n",
      "Epoch 5/10\n",
      "250/250 [==============================] - 0s 717us/sample - loss: 3.2169 - accuracy: 0.1800\n",
      "Epoch 6/10\n",
      "250/250 [==============================] - 0s 721us/sample - loss: 3.2165 - accuracy: 0.2240\n",
      "Epoch 7/10\n",
      "250/250 [==============================] - 0s 722us/sample - loss: 3.2163 - accuracy: 0.2960\n",
      "Epoch 8/10\n",
      "250/250 [==============================] - 0s 785us/sample - loss: 3.2160 - accuracy: 0.3480\n",
      "Epoch 9/10\n",
      "250/250 [==============================] - 0s 1ms/sample - loss: 3.2156 - accuracy: 0.3840\n",
      "Epoch 10/10\n",
      "250/250 [==============================] - 0s 709us/sample - loss: 3.2155 - accuracy: 0.3800\n"
     ]
    },
    {
     "name": "stderr",
     "output_type": "stream",
     "text": [
      "/Users/sergiomarchena/miniforge3/envs/MLvenv/lib/python3.8/site-packages/keras/engine/training_v1.py:2057: UserWarning: `Model.state_updates` will be removed in a future version. This property should not be used in TensorFlow 2.0, as `updates` are applied automatically.\n",
      "  updates = self.state_updates\n",
      "2022-05-30 14:31:24.344991: I tensorflow/core/grappler/optimizers/custom_graph_optimizer_registry.cc:113] Plugin optimizer for device_type GPU is enabled.\n"
     ]
    },
    {
     "name": "stdout",
     "output_type": "stream",
     "text": [
      "Probabilistic CopycatCNN (vs. Protected) : 0.3936251\n"
     ]
    },
    {
     "name": "stderr",
     "output_type": "stream",
     "text": [
      "2022-05-30 14:31:26.555703: I tensorflow/core/grappler/optimizers/custom_graph_optimizer_registry.cc:113] Plugin optimizer for device_type GPU is enabled.\n",
      "2022-05-30 14:31:27.092404: I tensorflow/core/grappler/optimizers/custom_graph_optimizer_registry.cc:113] Plugin optimizer for device_type GPU is enabled.\n"
     ]
    },
    {
     "name": "stdout",
     "output_type": "stream",
     "text": [
      "Train on 250 samples\n"
     ]
    },
    {
     "name": "stderr",
     "output_type": "stream",
     "text": [
      "2022-05-30 14:31:27.993567: I tensorflow/core/grappler/optimizers/custom_graph_optimizer_registry.cc:113] Plugin optimizer for device_type GPU is enabled.\n"
     ]
    },
    {
     "name": "stdout",
     "output_type": "stream",
     "text": [
      "Epoch 1/10\n"
     ]
    },
    {
     "name": "stderr",
     "output_type": "stream",
     "text": [
      "2022-05-30 14:31:28.558386: I tensorflow/core/grappler/optimizers/custom_graph_optimizer_registry.cc:113] Plugin optimizer for device_type GPU is enabled.\n",
      "2022-05-30 14:31:28.682827: I tensorflow/core/grappler/optimizers/custom_graph_optimizer_registry.cc:113] Plugin optimizer for device_type GPU is enabled.\n",
      "2022-05-30 14:31:28.783324: I tensorflow/core/grappler/optimizers/custom_graph_optimizer_registry.cc:113] Plugin optimizer for device_type GPU is enabled.\n"
     ]
    },
    {
     "name": "stdout",
     "output_type": "stream",
     "text": [
      "250/250 [==============================] - 1s 3ms/sample - loss: 2.9223 - accuracy: 0.1880\n",
      "Epoch 2/10\n",
      "250/250 [==============================] - 0s 777us/sample - loss: 2.6729 - accuracy: 0.2960\n",
      "Epoch 3/10\n",
      "250/250 [==============================] - 0s 899us/sample - loss: 2.5505 - accuracy: 0.3040\n",
      "Epoch 4/10\n",
      "250/250 [==============================] - 0s 1ms/sample - loss: 2.3768 - accuracy: 0.3520\n",
      "Epoch 5/10\n",
      "250/250 [==============================] - 0s 1ms/sample - loss: 2.3315 - accuracy: 0.3880\n",
      "Epoch 6/10\n",
      "250/250 [==============================] - 0s 725us/sample - loss: 2.1848 - accuracy: 0.4120\n",
      "Epoch 7/10\n",
      "250/250 [==============================] - 0s 719us/sample - loss: 2.0524 - accuracy: 0.3880\n",
      "Epoch 8/10\n",
      "250/250 [==============================] - 0s 727us/sample - loss: 1.9604 - accuracy: 0.4120\n",
      "Epoch 9/10\n",
      "250/250 [==============================] - 0s 740us/sample - loss: 1.8228 - accuracy: 0.4280\n",
      "Epoch 10/10\n",
      "250/250 [==============================] - 0s 748us/sample - loss: 1.7099 - accuracy: 0.4720\n"
     ]
    },
    {
     "name": "stderr",
     "output_type": "stream",
     "text": [
      "2022-05-30 14:31:31.834981: I tensorflow/core/grappler/optimizers/custom_graph_optimizer_registry.cc:113] Plugin optimizer for device_type GPU is enabled.\n"
     ]
    },
    {
     "name": "stdout",
     "output_type": "stream",
     "text": [
      "Argmax CopycatCNN (vs. Protected) : 0.46369848\n"
     ]
    },
    {
     "name": "stderr",
     "output_type": "stream",
     "text": [
      "2022-05-30 14:31:34.134710: I tensorflow/core/grappler/optimizers/custom_graph_optimizer_registry.cc:113] Plugin optimizer for device_type GPU is enabled.\n",
      "2022-05-30 14:31:34.728833: I tensorflow/core/grappler/optimizers/custom_graph_optimizer_registry.cc:113] Plugin optimizer for device_type GPU is enabled.\n",
      "2022-05-30 14:31:35.793846: I tensorflow/core/grappler/optimizers/custom_graph_optimizer_registry.cc:113] Plugin optimizer for device_type GPU is enabled.\n",
      "2022-05-30 14:31:36.409296: I tensorflow/core/grappler/optimizers/custom_graph_optimizer_registry.cc:113] Plugin optimizer for device_type GPU is enabled.\n",
      "2022-05-30 14:31:36.529139: I tensorflow/core/grappler/optimizers/custom_graph_optimizer_registry.cc:113] Plugin optimizer for device_type GPU is enabled.\n",
      "2022-05-30 14:31:36.635938: I tensorflow/core/grappler/optimizers/custom_graph_optimizer_registry.cc:113] Plugin optimizer for device_type GPU is enabled.\n",
      "2022-05-30 14:31:39.784424: I tensorflow/core/grappler/optimizers/custom_graph_optimizer_registry.cc:113] Plugin optimizer for device_type GPU is enabled.\n"
     ]
    },
    {
     "name": "stdout",
     "output_type": "stream",
     "text": [
      "Probabilistic KnockoffNets (vs. Protected) : 0.3956489\n"
     ]
    },
    {
     "name": "stderr",
     "output_type": "stream",
     "text": [
      "2022-05-30 14:31:42.085149: I tensorflow/core/grappler/optimizers/custom_graph_optimizer_registry.cc:113] Plugin optimizer for device_type GPU is enabled.\n",
      "2022-05-30 14:31:42.672958: I tensorflow/core/grappler/optimizers/custom_graph_optimizer_registry.cc:113] Plugin optimizer for device_type GPU is enabled.\n",
      "2022-05-30 14:31:43.672406: I tensorflow/core/grappler/optimizers/custom_graph_optimizer_registry.cc:113] Plugin optimizer for device_type GPU is enabled.\n",
      "2022-05-30 14:31:44.271960: I tensorflow/core/grappler/optimizers/custom_graph_optimizer_registry.cc:113] Plugin optimizer for device_type GPU is enabled.\n",
      "2022-05-30 14:31:44.394548: I tensorflow/core/grappler/optimizers/custom_graph_optimizer_registry.cc:113] Plugin optimizer for device_type GPU is enabled.\n",
      "2022-05-30 14:31:44.499341: I tensorflow/core/grappler/optimizers/custom_graph_optimizer_registry.cc:113] Plugin optimizer for device_type GPU is enabled.\n",
      "2022-05-30 14:31:47.501518: I tensorflow/core/grappler/optimizers/custom_graph_optimizer_registry.cc:113] Plugin optimizer for device_type GPU is enabled.\n"
     ]
    },
    {
     "name": "stdout",
     "output_type": "stream",
     "text": [
      "Argmax KnockoffNets (vs. Protected) : 0.43207693\n"
     ]
    },
    {
     "name": "stderr",
     "output_type": "stream",
     "text": [
      "2022-05-30 14:31:49.943882: I tensorflow/core/grappler/optimizers/custom_graph_optimizer_registry.cc:113] Plugin optimizer for device_type GPU is enabled.\n",
      "2022-05-30 14:31:50.589465: I tensorflow/core/grappler/optimizers/custom_graph_optimizer_registry.cc:113] Plugin optimizer for device_type GPU is enabled.\n",
      "/Users/sergiomarchena/miniforge3/envs/MLvenv/lib/python3.8/site-packages/art/defences/postprocessor/reverse_sigmoid.py:75: RuntimeWarning: divide by zero encountered in log\n",
      "  perturbation_r = self.beta * (sigmoid(-self.gamma * np.log((1.0 - preds_clipped) / preds_clipped)) - 0.5)\n"
     ]
    },
    {
     "name": "stdout",
     "output_type": "stream",
     "text": [
      "Train on 500 samples\n"
     ]
    },
    {
     "name": "stderr",
     "output_type": "stream",
     "text": [
      "2022-05-30 14:31:52.063687: I tensorflow/core/grappler/optimizers/custom_graph_optimizer_registry.cc:113] Plugin optimizer for device_type GPU is enabled.\n"
     ]
    },
    {
     "name": "stdout",
     "output_type": "stream",
     "text": [
      "Epoch 1/10\n"
     ]
    },
    {
     "name": "stderr",
     "output_type": "stream",
     "text": [
      "2022-05-30 14:31:52.702071: I tensorflow/core/grappler/optimizers/custom_graph_optimizer_registry.cc:113] Plugin optimizer for device_type GPU is enabled.\n",
      "2022-05-30 14:31:52.831025: I tensorflow/core/grappler/optimizers/custom_graph_optimizer_registry.cc:113] Plugin optimizer for device_type GPU is enabled.\n",
      "2022-05-30 14:31:52.948149: I tensorflow/core/grappler/optimizers/custom_graph_optimizer_registry.cc:113] Plugin optimizer for device_type GPU is enabled.\n"
     ]
    },
    {
     "name": "stdout",
     "output_type": "stream",
     "text": [
      "500/500 [==============================] - 1s 2ms/sample - loss: 3.2433 - accuracy: 0.0640\n",
      "Epoch 2/10\n",
      "500/500 [==============================] - 0s 516us/sample - loss: 3.2187 - accuracy: 0.1260\n",
      "Epoch 3/10\n",
      "500/500 [==============================] - 0s 622us/sample - loss: 3.2182 - accuracy: 0.1020\n",
      "Epoch 4/10\n",
      "500/500 [==============================] - 0s 771us/sample - loss: 3.2179 - accuracy: 0.1740\n",
      "Epoch 5/10\n",
      "500/500 [==============================] - 0s 681us/sample - loss: 3.2174 - accuracy: 0.2220\n",
      "Epoch 6/10\n",
      "500/500 [==============================] - 0s 714us/sample - loss: 3.2170 - accuracy: 0.3100\n",
      "Epoch 7/10\n",
      "500/500 [==============================] - 0s 736us/sample - loss: 3.2168 - accuracy: 0.2760\n",
      "Epoch 8/10\n",
      "500/500 [==============================] - 0s 701us/sample - loss: 3.2165 - accuracy: 0.3200\n",
      "Epoch 9/10\n",
      "500/500 [==============================] - 0s 700us/sample - loss: 3.2164 - accuracy: 0.3680\n",
      "Epoch 10/10\n",
      "500/500 [==============================] - 0s 817us/sample - loss: 3.2160 - accuracy: 0.3860\n"
     ]
    },
    {
     "name": "stderr",
     "output_type": "stream",
     "text": [
      "2022-05-30 14:31:57.538623: I tensorflow/core/grappler/optimizers/custom_graph_optimizer_registry.cc:113] Plugin optimizer for device_type GPU is enabled.\n"
     ]
    },
    {
     "name": "stdout",
     "output_type": "stream",
     "text": [
      "Probabilistic CopycatCNN (vs. Protected) : 0.41268465\n"
     ]
    },
    {
     "name": "stderr",
     "output_type": "stream",
     "text": [
      "2022-05-30 14:31:59.756658: I tensorflow/core/grappler/optimizers/custom_graph_optimizer_registry.cc:113] Plugin optimizer for device_type GPU is enabled.\n",
      "2022-05-30 14:32:00.404429: I tensorflow/core/grappler/optimizers/custom_graph_optimizer_registry.cc:113] Plugin optimizer for device_type GPU is enabled.\n"
     ]
    },
    {
     "name": "stdout",
     "output_type": "stream",
     "text": [
      "Train on 500 samples\n"
     ]
    },
    {
     "name": "stderr",
     "output_type": "stream",
     "text": [
      "2022-05-30 14:32:01.459324: I tensorflow/core/grappler/optimizers/custom_graph_optimizer_registry.cc:113] Plugin optimizer for device_type GPU is enabled.\n"
     ]
    },
    {
     "name": "stdout",
     "output_type": "stream",
     "text": [
      "Epoch 1/10\n"
     ]
    },
    {
     "name": "stderr",
     "output_type": "stream",
     "text": [
      "2022-05-30 14:32:02.107368: I tensorflow/core/grappler/optimizers/custom_graph_optimizer_registry.cc:113] Plugin optimizer for device_type GPU is enabled.\n",
      "2022-05-30 14:32:02.242087: I tensorflow/core/grappler/optimizers/custom_graph_optimizer_registry.cc:113] Plugin optimizer for device_type GPU is enabled.\n",
      "2022-05-30 14:32:02.357110: I tensorflow/core/grappler/optimizers/custom_graph_optimizer_registry.cc:113] Plugin optimizer for device_type GPU is enabled.\n"
     ]
    },
    {
     "name": "stdout",
     "output_type": "stream",
     "text": [
      "500/500 [==============================] - 1s 2ms/sample - loss: 2.7929 - accuracy: 0.2540\n",
      "Epoch 2/10\n",
      "500/500 [==============================] - 0s 711us/sample - loss: 2.5140 - accuracy: 0.2960\n",
      "Epoch 3/10\n",
      "500/500 [==============================] - 0s 720us/sample - loss: 2.3407 - accuracy: 0.3300\n",
      "Epoch 4/10\n",
      "500/500 [==============================] - 0s 748us/sample - loss: 2.2054 - accuracy: 0.3640\n",
      "Epoch 5/10\n",
      "500/500 [==============================] - 0s 702us/sample - loss: 2.0185 - accuracy: 0.4100\n",
      "Epoch 6/10\n",
      "500/500 [==============================] - 0s 708us/sample - loss: 1.8145 - accuracy: 0.4740\n",
      "Epoch 7/10\n",
      "500/500 [==============================] - 0s 714us/sample - loss: 1.6325 - accuracy: 0.5120\n",
      "Epoch 8/10\n",
      "500/500 [==============================] - 0s 940us/sample - loss: 1.4691 - accuracy: 0.5480\n",
      "Epoch 9/10\n",
      "500/500 [==============================] - 0s 717us/sample - loss: 1.3434 - accuracy: 0.5780\n",
      "Epoch 10/10\n",
      "500/500 [==============================] - 0s 714us/sample - loss: 1.1846 - accuracy: 0.5960\n"
     ]
    },
    {
     "name": "stderr",
     "output_type": "stream",
     "text": [
      "2022-05-30 14:32:07.282326: I tensorflow/core/grappler/optimizers/custom_graph_optimizer_registry.cc:113] Plugin optimizer for device_type GPU is enabled.\n"
     ]
    },
    {
     "name": "stdout",
     "output_type": "stream",
     "text": [
      "Argmax CopycatCNN (vs. Protected) : 0.6151173\n"
     ]
    },
    {
     "name": "stderr",
     "output_type": "stream",
     "text": [
      "2022-05-30 14:32:09.504726: I tensorflow/core/grappler/optimizers/custom_graph_optimizer_registry.cc:113] Plugin optimizer for device_type GPU is enabled.\n",
      "2022-05-30 14:32:10.148743: I tensorflow/core/grappler/optimizers/custom_graph_optimizer_registry.cc:113] Plugin optimizer for device_type GPU is enabled.\n",
      "2022-05-30 14:32:11.195071: I tensorflow/core/grappler/optimizers/custom_graph_optimizer_registry.cc:113] Plugin optimizer for device_type GPU is enabled.\n",
      "2022-05-30 14:32:11.863284: I tensorflow/core/grappler/optimizers/custom_graph_optimizer_registry.cc:113] Plugin optimizer for device_type GPU is enabled.\n",
      "2022-05-30 14:32:11.995541: I tensorflow/core/grappler/optimizers/custom_graph_optimizer_registry.cc:113] Plugin optimizer for device_type GPU is enabled.\n",
      "2022-05-30 14:32:12.115695: I tensorflow/core/grappler/optimizers/custom_graph_optimizer_registry.cc:113] Plugin optimizer for device_type GPU is enabled.\n",
      "2022-05-30 14:32:16.367758: I tensorflow/core/grappler/optimizers/custom_graph_optimizer_registry.cc:113] Plugin optimizer for device_type GPU is enabled.\n"
     ]
    },
    {
     "name": "stdout",
     "output_type": "stream",
     "text": [
      "Probabilistic KnockoffNets (vs. Protected) : 0.4807414\n"
     ]
    },
    {
     "name": "stderr",
     "output_type": "stream",
     "text": [
      "2022-05-30 14:32:18.545959: I tensorflow/core/grappler/optimizers/custom_graph_optimizer_registry.cc:113] Plugin optimizer for device_type GPU is enabled.\n",
      "2022-05-30 14:32:19.214466: I tensorflow/core/grappler/optimizers/custom_graph_optimizer_registry.cc:113] Plugin optimizer for device_type GPU is enabled.\n",
      "2022-05-30 14:32:20.283418: I tensorflow/core/grappler/optimizers/custom_graph_optimizer_registry.cc:113] Plugin optimizer for device_type GPU is enabled.\n",
      "2022-05-30 14:32:20.977334: I tensorflow/core/grappler/optimizers/custom_graph_optimizer_registry.cc:113] Plugin optimizer for device_type GPU is enabled.\n",
      "2022-05-30 14:32:21.114556: I tensorflow/core/grappler/optimizers/custom_graph_optimizer_registry.cc:113] Plugin optimizer for device_type GPU is enabled.\n",
      "2022-05-30 14:32:21.248415: I tensorflow/core/grappler/optimizers/custom_graph_optimizer_registry.cc:113] Plugin optimizer for device_type GPU is enabled.\n",
      "2022-05-30 14:32:25.561813: I tensorflow/core/grappler/optimizers/custom_graph_optimizer_registry.cc:113] Plugin optimizer for device_type GPU is enabled.\n"
     ]
    },
    {
     "name": "stdout",
     "output_type": "stream",
     "text": [
      "Argmax KnockoffNets (vs. Protected) : 0.57138723\n"
     ]
    },
    {
     "name": "stderr",
     "output_type": "stream",
     "text": [
      "2022-05-30 14:32:27.783388: I tensorflow/core/grappler/optimizers/custom_graph_optimizer_registry.cc:113] Plugin optimizer for device_type GPU is enabled.\n",
      "2022-05-30 14:32:28.471465: I tensorflow/core/grappler/optimizers/custom_graph_optimizer_registry.cc:113] Plugin optimizer for device_type GPU is enabled.\n"
     ]
    },
    {
     "name": "stdout",
     "output_type": "stream",
     "text": [
      "Train on 1000 samples\n"
     ]
    },
    {
     "name": "stderr",
     "output_type": "stream",
     "text": [
      "2022-05-30 14:32:29.704382: I tensorflow/core/grappler/optimizers/custom_graph_optimizer_registry.cc:113] Plugin optimizer for device_type GPU is enabled.\n"
     ]
    },
    {
     "name": "stdout",
     "output_type": "stream",
     "text": [
      "Epoch 1/10\n"
     ]
    },
    {
     "name": "stderr",
     "output_type": "stream",
     "text": [
      "2022-05-30 14:32:30.403308: I tensorflow/core/grappler/optimizers/custom_graph_optimizer_registry.cc:113] Plugin optimizer for device_type GPU is enabled.\n",
      "2022-05-30 14:32:30.540730: I tensorflow/core/grappler/optimizers/custom_graph_optimizer_registry.cc:113] Plugin optimizer for device_type GPU is enabled.\n",
      "2022-05-30 14:32:30.662906: I tensorflow/core/grappler/optimizers/custom_graph_optimizer_registry.cc:113] Plugin optimizer for device_type GPU is enabled.\n"
     ]
    },
    {
     "name": "stdout",
     "output_type": "stream",
     "text": [
      "1000/1000 [==============================] - 1s 1ms/sample - loss: 3.2238 - accuracy: 0.0490\n",
      "Epoch 2/10\n",
      "1000/1000 [==============================] - 1s 689us/sample - loss: 3.2174 - accuracy: 0.0910\n",
      "Epoch 3/10\n",
      "1000/1000 [==============================] - 1s 736us/sample - loss: 3.2165 - accuracy: 0.2290\n",
      "Epoch 4/10\n",
      "1000/1000 [==============================] - 1s 703us/sample - loss: 3.2159 - accuracy: 0.3820\n",
      "Epoch 5/10\n",
      "1000/1000 [==============================] - 1s 686us/sample - loss: 3.2152 - accuracy: 0.4590\n",
      "Epoch 6/10\n",
      "1000/1000 [==============================] - 1s 799us/sample - loss: 3.2149 - accuracy: 0.4890\n",
      "Epoch 7/10\n",
      "1000/1000 [==============================] - 1s 700us/sample - loss: 3.2144 - accuracy: 0.4990\n",
      "Epoch 8/10\n",
      "1000/1000 [==============================] - 1s 681us/sample - loss: 3.2140 - accuracy: 0.5230\n",
      "Epoch 9/10\n",
      "1000/1000 [==============================] - 1s 686us/sample - loss: 3.2136 - accuracy: 0.5510\n",
      "Epoch 10/10\n",
      "1000/1000 [==============================] - 1s 688us/sample - loss: 3.2132 - accuracy: 0.5770\n"
     ]
    },
    {
     "name": "stderr",
     "output_type": "stream",
     "text": [
      "2022-05-30 14:32:39.010962: I tensorflow/core/grappler/optimizers/custom_graph_optimizer_registry.cc:113] Plugin optimizer for device_type GPU is enabled.\n"
     ]
    },
    {
     "name": "stdout",
     "output_type": "stream",
     "text": [
      "Probabilistic CopycatCNN (vs. Protected) : 0.5907053\n"
     ]
    },
    {
     "name": "stderr",
     "output_type": "stream",
     "text": [
      "2022-05-30 14:32:41.008560: I tensorflow/core/grappler/optimizers/custom_graph_optimizer_registry.cc:113] Plugin optimizer for device_type GPU is enabled.\n",
      "2022-05-30 14:32:41.721904: I tensorflow/core/grappler/optimizers/custom_graph_optimizer_registry.cc:113] Plugin optimizer for device_type GPU is enabled.\n"
     ]
    },
    {
     "name": "stdout",
     "output_type": "stream",
     "text": [
      "Train on 1000 samples\n"
     ]
    },
    {
     "name": "stderr",
     "output_type": "stream",
     "text": [
      "2022-05-30 14:32:42.966811: I tensorflow/core/grappler/optimizers/custom_graph_optimizer_registry.cc:113] Plugin optimizer for device_type GPU is enabled.\n"
     ]
    },
    {
     "name": "stdout",
     "output_type": "stream",
     "text": [
      "Epoch 1/10\n"
     ]
    },
    {
     "name": "stderr",
     "output_type": "stream",
     "text": [
      "2022-05-30 14:32:43.698487: I tensorflow/core/grappler/optimizers/custom_graph_optimizer_registry.cc:113] Plugin optimizer for device_type GPU is enabled.\n",
      "2022-05-30 14:32:43.841708: I tensorflow/core/grappler/optimizers/custom_graph_optimizer_registry.cc:113] Plugin optimizer for device_type GPU is enabled.\n",
      "2022-05-30 14:32:43.974455: I tensorflow/core/grappler/optimizers/custom_graph_optimizer_registry.cc:113] Plugin optimizer for device_type GPU is enabled.\n"
     ]
    },
    {
     "name": "stdout",
     "output_type": "stream",
     "text": [
      "1000/1000 [==============================] - 1s 1ms/sample - loss: 2.7517 - accuracy: 0.3310\n",
      "Epoch 2/10\n",
      "1000/1000 [==============================] - 1s 690us/sample - loss: 2.1584 - accuracy: 0.4190\n",
      "Epoch 3/10\n",
      "1000/1000 [==============================] - 1s 773us/sample - loss: 1.7580 - accuracy: 0.4620\n",
      "Epoch 4/10\n",
      "1000/1000 [==============================] - 1s 700us/sample - loss: 1.5077 - accuracy: 0.5200\n",
      "Epoch 5/10\n",
      "1000/1000 [==============================] - 1s 773us/sample - loss: 1.3237 - accuracy: 0.5710\n",
      "Epoch 6/10\n",
      "1000/1000 [==============================] - 1s 691us/sample - loss: 1.1718 - accuracy: 0.6210\n",
      "Epoch 7/10\n",
      "1000/1000 [==============================] - 1s 690us/sample - loss: 0.9964 - accuracy: 0.6830\n",
      "Epoch 8/10\n",
      "1000/1000 [==============================] - 1s 720us/sample - loss: 0.8764 - accuracy: 0.7280\n",
      "Epoch 9/10\n",
      "1000/1000 [==============================] - 1s 709us/sample - loss: 0.7433 - accuracy: 0.7490\n",
      "Epoch 10/10\n",
      "1000/1000 [==============================] - 1s 693us/sample - loss: 0.6993 - accuracy: 0.7870\n"
     ]
    },
    {
     "name": "stderr",
     "output_type": "stream",
     "text": [
      "2022-05-30 14:32:52.425490: I tensorflow/core/grappler/optimizers/custom_graph_optimizer_registry.cc:113] Plugin optimizer for device_type GPU is enabled.\n"
     ]
    },
    {
     "name": "stdout",
     "output_type": "stream",
     "text": [
      "Argmax CopycatCNN (vs. Protected) : 0.79249895\n"
     ]
    },
    {
     "name": "stderr",
     "output_type": "stream",
     "text": [
      "2022-05-30 14:32:54.493635: I tensorflow/core/grappler/optimizers/custom_graph_optimizer_registry.cc:113] Plugin optimizer for device_type GPU is enabled.\n",
      "2022-05-30 14:32:55.237789: I tensorflow/core/grappler/optimizers/custom_graph_optimizer_registry.cc:113] Plugin optimizer for device_type GPU is enabled.\n",
      "2022-05-30 14:32:56.533585: I tensorflow/core/grappler/optimizers/custom_graph_optimizer_registry.cc:113] Plugin optimizer for device_type GPU is enabled.\n",
      "2022-05-30 14:32:57.282222: I tensorflow/core/grappler/optimizers/custom_graph_optimizer_registry.cc:113] Plugin optimizer for device_type GPU is enabled.\n",
      "2022-05-30 14:32:57.427330: I tensorflow/core/grappler/optimizers/custom_graph_optimizer_registry.cc:113] Plugin optimizer for device_type GPU is enabled.\n",
      "2022-05-30 14:32:57.560722: I tensorflow/core/grappler/optimizers/custom_graph_optimizer_registry.cc:113] Plugin optimizer for device_type GPU is enabled.\n",
      "2022-05-30 14:33:05.011242: I tensorflow/core/grappler/optimizers/custom_graph_optimizer_registry.cc:113] Plugin optimizer for device_type GPU is enabled.\n"
     ]
    },
    {
     "name": "stdout",
     "output_type": "stream",
     "text": [
      "Probabilistic KnockoffNets (vs. Protected) : 0.5063188\n"
     ]
    },
    {
     "name": "stderr",
     "output_type": "stream",
     "text": [
      "2022-05-30 14:33:07.111509: I tensorflow/core/grappler/optimizers/custom_graph_optimizer_registry.cc:113] Plugin optimizer for device_type GPU is enabled.\n",
      "2022-05-30 14:33:07.886342: I tensorflow/core/grappler/optimizers/custom_graph_optimizer_registry.cc:113] Plugin optimizer for device_type GPU is enabled.\n",
      "2022-05-30 14:33:09.235776: I tensorflow/core/grappler/optimizers/custom_graph_optimizer_registry.cc:113] Plugin optimizer for device_type GPU is enabled.\n",
      "2022-05-30 14:33:09.986670: I tensorflow/core/grappler/optimizers/custom_graph_optimizer_registry.cc:113] Plugin optimizer for device_type GPU is enabled.\n",
      "2022-05-30 14:33:10.136495: I tensorflow/core/grappler/optimizers/custom_graph_optimizer_registry.cc:113] Plugin optimizer for device_type GPU is enabled.\n",
      "2022-05-30 14:33:10.271382: I tensorflow/core/grappler/optimizers/custom_graph_optimizer_registry.cc:113] Plugin optimizer for device_type GPU is enabled.\n",
      "2022-05-30 14:33:17.952556: I tensorflow/core/grappler/optimizers/custom_graph_optimizer_registry.cc:113] Plugin optimizer for device_type GPU is enabled.\n"
     ]
    },
    {
     "name": "stdout",
     "output_type": "stream",
     "text": [
      "Argmax KnockoffNets (vs. Protected) : 0.77130044\n"
     ]
    },
    {
     "name": "stderr",
     "output_type": "stream",
     "text": [
      "2022-05-30 14:33:20.137870: I tensorflow/core/grappler/optimizers/custom_graph_optimizer_registry.cc:113] Plugin optimizer for device_type GPU is enabled.\n",
      "2022-05-30 14:33:20.903944: I tensorflow/core/grappler/optimizers/custom_graph_optimizer_registry.cc:113] Plugin optimizer for device_type GPU is enabled.\n"
     ]
    },
    {
     "name": "stdout",
     "output_type": "stream",
     "text": [
      "Train on 2000 samples\n"
     ]
    },
    {
     "name": "stderr",
     "output_type": "stream",
     "text": [
      "2022-05-30 14:33:22.468607: I tensorflow/core/grappler/optimizers/custom_graph_optimizer_registry.cc:113] Plugin optimizer for device_type GPU is enabled.\n",
      "2022-05-30 14:33:23.250437: I tensorflow/core/grappler/optimizers/custom_graph_optimizer_registry.cc:113] Plugin optimizer for device_type GPU is enabled.\n",
      "2022-05-30 14:33:23.403718: I tensorflow/core/grappler/optimizers/custom_graph_optimizer_registry.cc:113] Plugin optimizer for device_type GPU is enabled.\n"
     ]
    },
    {
     "name": "stdout",
     "output_type": "stream",
     "text": [
      "Epoch 1/10\n"
     ]
    },
    {
     "name": "stderr",
     "output_type": "stream",
     "text": [
      "2022-05-30 14:33:23.556281: I tensorflow/core/grappler/optimizers/custom_graph_optimizer_registry.cc:113] Plugin optimizer for device_type GPU is enabled.\n"
     ]
    },
    {
     "name": "stdout",
     "output_type": "stream",
     "text": [
      "2000/2000 [==============================] - 2s 983us/sample - loss: 3.2191 - accuracy: 0.1085\n",
      "Epoch 2/10\n",
      "2000/2000 [==============================] - 1s 718us/sample - loss: 3.2164 - accuracy: 0.2465\n",
      "Epoch 3/10\n",
      "2000/2000 [==============================] - 1s 713us/sample - loss: 3.2156 - accuracy: 0.3680\n",
      "Epoch 4/10\n",
      "2000/2000 [==============================] - 1s 684us/sample - loss: 3.2152 - accuracy: 0.4300\n",
      "Epoch 5/10\n",
      "2000/2000 [==============================] - 1s 743us/sample - loss: 3.2148 - accuracy: 0.4515\n",
      "Epoch 6/10\n",
      "2000/2000 [==============================] - 1s 701us/sample - loss: 3.2143 - accuracy: 0.5095\n",
      "Epoch 7/10\n",
      "2000/2000 [==============================] - 1s 718us/sample - loss: 3.2136 - accuracy: 0.5805\n",
      "Epoch 8/10\n",
      "2000/2000 [==============================] - 2s 820us/sample - loss: 3.2133 - accuracy: 0.6260\n",
      "Epoch 9/10\n",
      "2000/2000 [==============================] - 1s 724us/sample - loss: 3.2127 - accuracy: 0.7190\n",
      "Epoch 10/10\n",
      "2000/2000 [==============================] - 1s 681us/sample - loss: 3.2123 - accuracy: 0.7245\n"
     ]
    },
    {
     "name": "stderr",
     "output_type": "stream",
     "text": [
      "2022-05-30 14:33:39.285395: I tensorflow/core/grappler/optimizers/custom_graph_optimizer_registry.cc:113] Plugin optimizer for device_type GPU is enabled.\n"
     ]
    },
    {
     "name": "stdout",
     "output_type": "stream",
     "text": [
      "Probabilistic CopycatCNN (vs. Protected) : 0.812362\n"
     ]
    },
    {
     "name": "stderr",
     "output_type": "stream",
     "text": [
      "2022-05-30 14:33:40.840157: I tensorflow/core/grappler/optimizers/custom_graph_optimizer_registry.cc:113] Plugin optimizer for device_type GPU is enabled.\n",
      "2022-05-30 14:33:41.629383: I tensorflow/core/grappler/optimizers/custom_graph_optimizer_registry.cc:113] Plugin optimizer for device_type GPU is enabled.\n"
     ]
    },
    {
     "name": "stdout",
     "output_type": "stream",
     "text": [
      "Train on 2000 samples\n"
     ]
    },
    {
     "name": "stderr",
     "output_type": "stream",
     "text": [
      "2022-05-30 14:33:43.252626: I tensorflow/core/grappler/optimizers/custom_graph_optimizer_registry.cc:113] Plugin optimizer for device_type GPU is enabled.\n",
      "2022-05-30 14:33:44.066812: I tensorflow/core/grappler/optimizers/custom_graph_optimizer_registry.cc:113] Plugin optimizer for device_type GPU is enabled.\n",
      "2022-05-30 14:33:44.230719: I tensorflow/core/grappler/optimizers/custom_graph_optimizer_registry.cc:113] Plugin optimizer for device_type GPU is enabled.\n"
     ]
    },
    {
     "name": "stdout",
     "output_type": "stream",
     "text": [
      "Epoch 1/10\n"
     ]
    },
    {
     "name": "stderr",
     "output_type": "stream",
     "text": [
      "2022-05-30 14:33:44.382458: I tensorflow/core/grappler/optimizers/custom_graph_optimizer_registry.cc:113] Plugin optimizer for device_type GPU is enabled.\n"
     ]
    },
    {
     "name": "stdout",
     "output_type": "stream",
     "text": [
      "2000/2000 [==============================] - 2s 1ms/sample - loss: 2.4774 - accuracy: 0.3105\n",
      "Epoch 2/10\n",
      "2000/2000 [==============================] - 1s 722us/sample - loss: 1.7914 - accuracy: 0.4570\n",
      "Epoch 3/10\n",
      "2000/2000 [==============================] - 1s 678us/sample - loss: 1.3686 - accuracy: 0.5415\n",
      "Epoch 4/10\n",
      "2000/2000 [==============================] - 1s 734us/sample - loss: 1.0727 - accuracy: 0.6140\n",
      "Epoch 5/10\n",
      "2000/2000 [==============================] - 1s 680us/sample - loss: 0.9024 - accuracy: 0.6935\n",
      "Epoch 6/10\n",
      "2000/2000 [==============================] - 1s 689us/sample - loss: 0.7573 - accuracy: 0.7295\n",
      "Epoch 7/10\n",
      "2000/2000 [==============================] - 1s 686us/sample - loss: 0.6244 - accuracy: 0.8105\n",
      "Epoch 8/10\n",
      "2000/2000 [==============================] - 1s 693us/sample - loss: 0.5077 - accuracy: 0.8585\n",
      "Epoch 9/10\n",
      "2000/2000 [==============================] - 1s 704us/sample - loss: 0.4482 - accuracy: 0.8690\n",
      "Epoch 10/10\n",
      "2000/2000 [==============================] - 1s 684us/sample - loss: 0.4024 - accuracy: 0.8925\n"
     ]
    },
    {
     "name": "stderr",
     "output_type": "stream",
     "text": [
      "2022-05-30 14:33:59.685536: I tensorflow/core/grappler/optimizers/custom_graph_optimizer_registry.cc:113] Plugin optimizer for device_type GPU is enabled.\n"
     ]
    },
    {
     "name": "stdout",
     "output_type": "stream",
     "text": [
      "Argmax CopycatCNN (vs. Protected) : 0.90949225\n"
     ]
    },
    {
     "name": "stderr",
     "output_type": "stream",
     "text": [
      "2022-05-30 14:34:03.457787: I tensorflow/core/grappler/optimizers/custom_graph_optimizer_registry.cc:113] Plugin optimizer for device_type GPU is enabled.\n",
      "2022-05-30 14:34:04.341544: I tensorflow/core/grappler/optimizers/custom_graph_optimizer_registry.cc:113] Plugin optimizer for device_type GPU is enabled.\n",
      "2022-05-30 14:34:06.002884: I tensorflow/core/grappler/optimizers/custom_graph_optimizer_registry.cc:113] Plugin optimizer for device_type GPU is enabled.\n",
      "2022-05-30 14:34:06.867119: I tensorflow/core/grappler/optimizers/custom_graph_optimizer_registry.cc:113] Plugin optimizer for device_type GPU is enabled.\n",
      "2022-05-30 14:34:07.030619: I tensorflow/core/grappler/optimizers/custom_graph_optimizer_registry.cc:113] Plugin optimizer for device_type GPU is enabled.\n",
      "2022-05-30 14:34:07.181385: I tensorflow/core/grappler/optimizers/custom_graph_optimizer_registry.cc:113] Plugin optimizer for device_type GPU is enabled.\n",
      "2022-05-30 14:34:22.722590: I tensorflow/core/grappler/optimizers/custom_graph_optimizer_registry.cc:113] Plugin optimizer for device_type GPU is enabled.\n"
     ]
    },
    {
     "name": "stdout",
     "output_type": "stream",
     "text": [
      "Probabilistic KnockoffNets (vs. Protected) : 0.7637969\n"
     ]
    },
    {
     "name": "stderr",
     "output_type": "stream",
     "text": [
      "2022-05-30 14:34:24.408743: I tensorflow/core/grappler/optimizers/custom_graph_optimizer_registry.cc:113] Plugin optimizer for device_type GPU is enabled.\n",
      "2022-05-30 14:34:25.277839: I tensorflow/core/grappler/optimizers/custom_graph_optimizer_registry.cc:113] Plugin optimizer for device_type GPU is enabled.\n",
      "2022-05-30 14:34:26.909245: I tensorflow/core/grappler/optimizers/custom_graph_optimizer_registry.cc:113] Plugin optimizer for device_type GPU is enabled.\n",
      "2022-05-30 14:34:27.812050: I tensorflow/core/grappler/optimizers/custom_graph_optimizer_registry.cc:113] Plugin optimizer for device_type GPU is enabled.\n",
      "2022-05-30 14:34:27.982772: I tensorflow/core/grappler/optimizers/custom_graph_optimizer_registry.cc:113] Plugin optimizer for device_type GPU is enabled.\n",
      "2022-05-30 14:34:28.143054: I tensorflow/core/grappler/optimizers/custom_graph_optimizer_registry.cc:113] Plugin optimizer for device_type GPU is enabled.\n",
      "2022-05-30 14:34:42.880411: I tensorflow/core/grappler/optimizers/custom_graph_optimizer_registry.cc:113] Plugin optimizer for device_type GPU is enabled.\n"
     ]
    },
    {
     "name": "stdout",
     "output_type": "stream",
     "text": [
      "Argmax KnockoffNets (vs. Protected) : 0.9183223\n"
     ]
    },
    {
     "name": "stderr",
     "output_type": "stream",
     "text": [
      "2022-05-30 14:34:44.763482: I tensorflow/core/grappler/optimizers/custom_graph_optimizer_registry.cc:113] Plugin optimizer for device_type GPU is enabled.\n",
      "2022-05-30 14:34:45.732108: I tensorflow/core/grappler/optimizers/custom_graph_optimizer_registry.cc:113] Plugin optimizer for device_type GPU is enabled.\n"
     ]
    },
    {
     "name": "stdout",
     "output_type": "stream",
     "text": [
      "Train on 453 samples\n"
     ]
    },
    {
     "name": "stderr",
     "output_type": "stream",
     "text": [
      "2022-05-30 14:34:47.082872: I tensorflow/core/grappler/optimizers/custom_graph_optimizer_registry.cc:113] Plugin optimizer for device_type GPU is enabled.\n",
      "2022-05-30 14:34:48.023843: I tensorflow/core/grappler/optimizers/custom_graph_optimizer_registry.cc:113] Plugin optimizer for device_type GPU is enabled.\n",
      "2022-05-30 14:34:48.212476: I tensorflow/core/grappler/optimizers/custom_graph_optimizer_registry.cc:113] Plugin optimizer for device_type GPU is enabled.\n"
     ]
    },
    {
     "name": "stdout",
     "output_type": "stream",
     "text": [
      "Epoch 1/10\n"
     ]
    },
    {
     "name": "stderr",
     "output_type": "stream",
     "text": [
      "2022-05-30 14:34:48.378941: I tensorflow/core/grappler/optimizers/custom_graph_optimizer_registry.cc:113] Plugin optimizer for device_type GPU is enabled.\n"
     ]
    },
    {
     "name": "stdout",
     "output_type": "stream",
     "text": [
      "453/453 [==============================] - 1s 2ms/sample - loss: 3.2321 - accuracy: 0.0795\n",
      "Epoch 2/10\n",
      "453/453 [==============================] - 0s 783us/sample - loss: 3.2182 - accuracy: 0.1413\n",
      "Epoch 3/10\n",
      "453/453 [==============================] - 0s 1ms/sample - loss: 3.2178 - accuracy: 0.1876\n",
      "Epoch 4/10\n",
      "453/453 [==============================] - 0s 719us/sample - loss: 3.2171 - accuracy: 0.1722\n",
      "Epoch 5/10\n",
      "453/453 [==============================] - 0s 741us/sample - loss: 3.2168 - accuracy: 0.1810\n",
      "Epoch 6/10\n",
      "453/453 [==============================] - 0s 688us/sample - loss: 3.2165 - accuracy: 0.1898\n",
      "Epoch 7/10\n",
      "453/453 [==============================] - 0s 719us/sample - loss: 3.2162 - accuracy: 0.1457\n",
      "Epoch 8/10\n",
      "453/453 [==============================] - 0s 720us/sample - loss: 3.2160 - accuracy: 0.1567\n",
      "Epoch 9/10\n",
      "453/453 [==============================] - 0s 721us/sample - loss: 3.2157 - accuracy: 0.2450\n",
      "Epoch 10/10\n",
      "453/453 [==============================] - 0s 723us/sample - loss: 3.2154 - accuracy: 0.3267\n"
     ]
    },
    {
     "ename": "ValueError",
     "evalue": "Empty training data.",
     "output_type": "error",
     "traceback": [
      "\u001b[0;31m---------------------------------------------------------------------------\u001b[0m",
      "\u001b[0;31mValueError\u001b[0m                                Traceback (most recent call last)",
      "\u001b[1;32m/Users/sergiomarchena/Documents/security data science/proyecto3/main.ipynb Cell 25'\u001b[0m in \u001b[0;36m<cell line: 2>\u001b[0;34m()\u001b[0m\n\u001b[1;32m     <a href='vscode-notebook-cell:/Users/sergiomarchena/Documents/security%20data%20science/proyecto3/main.ipynb#ch0000032?line=14'>15</a>\u001b[0m \u001b[39melse\u001b[39;00m:\n\u001b[1;32m     <a href='vscode-notebook-cell:/Users/sergiomarchena/Documents/security%20data%20science/proyecto3/main.ipynb#ch0000032?line=15'>16</a>\u001b[0m     classifier_stolen \u001b[39m=\u001b[39m attack\u001b[39m.\u001b[39mextract(x_steal, y_steal, thieved_classifier\u001b[39m=\u001b[39mclassifier_stolen)\n\u001b[0;32m---> <a href='vscode-notebook-cell:/Users/sergiomarchena/Documents/security%20data%20science/proyecto3/main.ipynb#ch0000032?line=17'>18</a>\u001b[0m acc \u001b[39m=\u001b[39m classifier_stolen\u001b[39m.\u001b[39;49m_model\u001b[39m.\u001b[39;49mevaluate(x_test, y_test)[\u001b[39m1\u001b[39m]\n\u001b[1;32m     <a href='vscode-notebook-cell:/Users/sergiomarchena/Documents/security%20data%20science/proyecto3/main.ipynb#ch0000032?line=18'>19</a>\u001b[0m \u001b[39mprint\u001b[39m(name, \u001b[39m\"\u001b[39m\u001b[39m:\u001b[39m\u001b[39m\"\u001b[39m, acc)\n\u001b[1;32m     <a href='vscode-notebook-cell:/Users/sergiomarchena/Documents/security%20data%20science/proyecto3/main.ipynb#ch0000032?line=19'>20</a>\u001b[0m results_protected\u001b[39m.\u001b[39mappend((name, len_steal, acc))\n",
      "File \u001b[0;32m~/miniforge3/envs/MLvenv/lib/python3.8/site-packages/keras/engine/training_v1.py:891\u001b[0m, in \u001b[0;36mModel.evaluate\u001b[0;34m(self, x, y, batch_size, verbose, sample_weight, steps, callbacks, max_queue_size, workers, use_multiprocessing)\u001b[0m\n\u001b[1;32m    <a href='file:///Users/sergiomarchena/miniforge3/envs/MLvenv/lib/python3.8/site-packages/keras/engine/training_v1.py?line=887'>888</a>\u001b[0m \u001b[39mself\u001b[39m\u001b[39m.\u001b[39m_check_call_args(\u001b[39m'\u001b[39m\u001b[39mevaluate\u001b[39m\u001b[39m'\u001b[39m)\n\u001b[1;32m    <a href='file:///Users/sergiomarchena/miniforge3/envs/MLvenv/lib/python3.8/site-packages/keras/engine/training_v1.py?line=889'>890</a>\u001b[0m func \u001b[39m=\u001b[39m \u001b[39mself\u001b[39m\u001b[39m.\u001b[39m_select_training_loop(x)\n\u001b[0;32m--> <a href='file:///Users/sergiomarchena/miniforge3/envs/MLvenv/lib/python3.8/site-packages/keras/engine/training_v1.py?line=890'>891</a>\u001b[0m \u001b[39mreturn\u001b[39;00m func\u001b[39m.\u001b[39;49mevaluate(\n\u001b[1;32m    <a href='file:///Users/sergiomarchena/miniforge3/envs/MLvenv/lib/python3.8/site-packages/keras/engine/training_v1.py?line=891'>892</a>\u001b[0m     \u001b[39mself\u001b[39;49m,\n\u001b[1;32m    <a href='file:///Users/sergiomarchena/miniforge3/envs/MLvenv/lib/python3.8/site-packages/keras/engine/training_v1.py?line=892'>893</a>\u001b[0m     x\u001b[39m=\u001b[39;49mx,\n\u001b[1;32m    <a href='file:///Users/sergiomarchena/miniforge3/envs/MLvenv/lib/python3.8/site-packages/keras/engine/training_v1.py?line=893'>894</a>\u001b[0m     y\u001b[39m=\u001b[39;49my,\n\u001b[1;32m    <a href='file:///Users/sergiomarchena/miniforge3/envs/MLvenv/lib/python3.8/site-packages/keras/engine/training_v1.py?line=894'>895</a>\u001b[0m     batch_size\u001b[39m=\u001b[39;49mbatch_size,\n\u001b[1;32m    <a href='file:///Users/sergiomarchena/miniforge3/envs/MLvenv/lib/python3.8/site-packages/keras/engine/training_v1.py?line=895'>896</a>\u001b[0m     verbose\u001b[39m=\u001b[39;49mverbose,\n\u001b[1;32m    <a href='file:///Users/sergiomarchena/miniforge3/envs/MLvenv/lib/python3.8/site-packages/keras/engine/training_v1.py?line=896'>897</a>\u001b[0m     sample_weight\u001b[39m=\u001b[39;49msample_weight,\n\u001b[1;32m    <a href='file:///Users/sergiomarchena/miniforge3/envs/MLvenv/lib/python3.8/site-packages/keras/engine/training_v1.py?line=897'>898</a>\u001b[0m     steps\u001b[39m=\u001b[39;49msteps,\n\u001b[1;32m    <a href='file:///Users/sergiomarchena/miniforge3/envs/MLvenv/lib/python3.8/site-packages/keras/engine/training_v1.py?line=898'>899</a>\u001b[0m     callbacks\u001b[39m=\u001b[39;49mcallbacks,\n\u001b[1;32m    <a href='file:///Users/sergiomarchena/miniforge3/envs/MLvenv/lib/python3.8/site-packages/keras/engine/training_v1.py?line=899'>900</a>\u001b[0m     max_queue_size\u001b[39m=\u001b[39;49mmax_queue_size,\n\u001b[1;32m    <a href='file:///Users/sergiomarchena/miniforge3/envs/MLvenv/lib/python3.8/site-packages/keras/engine/training_v1.py?line=900'>901</a>\u001b[0m     workers\u001b[39m=\u001b[39;49mworkers,\n\u001b[1;32m    <a href='file:///Users/sergiomarchena/miniforge3/envs/MLvenv/lib/python3.8/site-packages/keras/engine/training_v1.py?line=901'>902</a>\u001b[0m     use_multiprocessing\u001b[39m=\u001b[39;49muse_multiprocessing)\n",
      "File \u001b[0;32m~/miniforge3/envs/MLvenv/lib/python3.8/site-packages/keras/engine/training_arrays_v1.py:679\u001b[0m, in \u001b[0;36mArrayLikeTrainingLoop.evaluate\u001b[0;34m(self, model, x, y, batch_size, verbose, sample_weight, steps, callbacks, **kwargs)\u001b[0m\n\u001b[1;32m    <a href='file:///Users/sergiomarchena/miniforge3/envs/MLvenv/lib/python3.8/site-packages/keras/engine/training_arrays_v1.py?line=669'>670</a>\u001b[0m batch_size \u001b[39m=\u001b[39m model\u001b[39m.\u001b[39m_validate_or_infer_batch_size(batch_size, steps, x)\n\u001b[1;32m    <a href='file:///Users/sergiomarchena/miniforge3/envs/MLvenv/lib/python3.8/site-packages/keras/engine/training_arrays_v1.py?line=670'>671</a>\u001b[0m x, y, sample_weights \u001b[39m=\u001b[39m model\u001b[39m.\u001b[39m_standardize_user_data(\n\u001b[1;32m    <a href='file:///Users/sergiomarchena/miniforge3/envs/MLvenv/lib/python3.8/site-packages/keras/engine/training_arrays_v1.py?line=671'>672</a>\u001b[0m     x,\n\u001b[1;32m    <a href='file:///Users/sergiomarchena/miniforge3/envs/MLvenv/lib/python3.8/site-packages/keras/engine/training_arrays_v1.py?line=672'>673</a>\u001b[0m     y,\n\u001b[0;32m   (...)\u001b[0m\n\u001b[1;32m    <a href='file:///Users/sergiomarchena/miniforge3/envs/MLvenv/lib/python3.8/site-packages/keras/engine/training_arrays_v1.py?line=676'>677</a>\u001b[0m     steps_name\u001b[39m=\u001b[39m\u001b[39m'\u001b[39m\u001b[39msteps\u001b[39m\u001b[39m'\u001b[39m,\n\u001b[1;32m    <a href='file:///Users/sergiomarchena/miniforge3/envs/MLvenv/lib/python3.8/site-packages/keras/engine/training_arrays_v1.py?line=677'>678</a>\u001b[0m     steps\u001b[39m=\u001b[39msteps)\n\u001b[0;32m--> <a href='file:///Users/sergiomarchena/miniforge3/envs/MLvenv/lib/python3.8/site-packages/keras/engine/training_arrays_v1.py?line=678'>679</a>\u001b[0m \u001b[39mreturn\u001b[39;00m test_loop(\n\u001b[1;32m    <a href='file:///Users/sergiomarchena/miniforge3/envs/MLvenv/lib/python3.8/site-packages/keras/engine/training_arrays_v1.py?line=679'>680</a>\u001b[0m     model,\n\u001b[1;32m    <a href='file:///Users/sergiomarchena/miniforge3/envs/MLvenv/lib/python3.8/site-packages/keras/engine/training_arrays_v1.py?line=680'>681</a>\u001b[0m     inputs\u001b[39m=\u001b[39;49mx,\n\u001b[1;32m    <a href='file:///Users/sergiomarchena/miniforge3/envs/MLvenv/lib/python3.8/site-packages/keras/engine/training_arrays_v1.py?line=681'>682</a>\u001b[0m     targets\u001b[39m=\u001b[39;49my,\n\u001b[1;32m    <a href='file:///Users/sergiomarchena/miniforge3/envs/MLvenv/lib/python3.8/site-packages/keras/engine/training_arrays_v1.py?line=682'>683</a>\u001b[0m     sample_weights\u001b[39m=\u001b[39;49msample_weights,\n\u001b[1;32m    <a href='file:///Users/sergiomarchena/miniforge3/envs/MLvenv/lib/python3.8/site-packages/keras/engine/training_arrays_v1.py?line=683'>684</a>\u001b[0m     batch_size\u001b[39m=\u001b[39;49mbatch_size,\n\u001b[1;32m    <a href='file:///Users/sergiomarchena/miniforge3/envs/MLvenv/lib/python3.8/site-packages/keras/engine/training_arrays_v1.py?line=684'>685</a>\u001b[0m     verbose\u001b[39m=\u001b[39;49mverbose,\n\u001b[1;32m    <a href='file:///Users/sergiomarchena/miniforge3/envs/MLvenv/lib/python3.8/site-packages/keras/engine/training_arrays_v1.py?line=685'>686</a>\u001b[0m     steps\u001b[39m=\u001b[39;49msteps,\n\u001b[1;32m    <a href='file:///Users/sergiomarchena/miniforge3/envs/MLvenv/lib/python3.8/site-packages/keras/engine/training_arrays_v1.py?line=686'>687</a>\u001b[0m     callbacks\u001b[39m=\u001b[39;49mcallbacks)\n",
      "File \u001b[0;32m~/miniforge3/envs/MLvenv/lib/python3.8/site-packages/keras/engine/training_arrays_v1.py:393\u001b[0m, in \u001b[0;36mmodel_iteration\u001b[0;34m(model, inputs, targets, sample_weights, batch_size, epochs, verbose, callbacks, val_inputs, val_targets, val_sample_weights, shuffle, initial_epoch, steps_per_epoch, validation_steps, validation_freq, mode, validation_in_fit, prepared_feed_values_from_dataset, steps_name, **kwargs)\u001b[0m\n\u001b[1;32m    <a href='file:///Users/sergiomarchena/miniforge3/envs/MLvenv/lib/python3.8/site-packages/keras/engine/training_arrays_v1.py?line=389'>390</a>\u001b[0m     \u001b[39mif\u001b[39;00m callbacks\u001b[39m.\u001b[39mmodel\u001b[39m.\u001b[39mstop_training:\n\u001b[1;32m    <a href='file:///Users/sergiomarchena/miniforge3/envs/MLvenv/lib/python3.8/site-packages/keras/engine/training_arrays_v1.py?line=390'>391</a>\u001b[0m       \u001b[39mbreak\u001b[39;00m\n\u001b[0;32m--> <a href='file:///Users/sergiomarchena/miniforge3/envs/MLvenv/lib/python3.8/site-packages/keras/engine/training_arrays_v1.py?line=392'>393</a>\u001b[0m aggregator\u001b[39m.\u001b[39;49mfinalize()\n\u001b[1;32m    <a href='file:///Users/sergiomarchena/miniforge3/envs/MLvenv/lib/python3.8/site-packages/keras/engine/training_arrays_v1.py?line=393'>394</a>\u001b[0m results \u001b[39m=\u001b[39m aggregator\u001b[39m.\u001b[39mresults\n\u001b[1;32m    <a href='file:///Users/sergiomarchena/miniforge3/envs/MLvenv/lib/python3.8/site-packages/keras/engine/training_arrays_v1.py?line=394'>395</a>\u001b[0m epoch_logs \u001b[39m=\u001b[39m cbks\u001b[39m.\u001b[39mmake_logs(model, epoch_logs, results, mode)\n",
      "File \u001b[0;32m~/miniforge3/envs/MLvenv/lib/python3.8/site-packages/keras/engine/training_utils_v1.py:127\u001b[0m, in \u001b[0;36mMetricsAggregator.finalize\u001b[0;34m(self)\u001b[0m\n\u001b[1;32m    <a href='file:///Users/sergiomarchena/miniforge3/envs/MLvenv/lib/python3.8/site-packages/keras/engine/training_utils_v1.py?line=124'>125</a>\u001b[0m \u001b[39mdef\u001b[39;00m \u001b[39mfinalize\u001b[39m(\u001b[39mself\u001b[39m):\n\u001b[1;32m    <a href='file:///Users/sergiomarchena/miniforge3/envs/MLvenv/lib/python3.8/site-packages/keras/engine/training_utils_v1.py?line=125'>126</a>\u001b[0m   \u001b[39mif\u001b[39;00m \u001b[39mnot\u001b[39;00m \u001b[39mself\u001b[39m\u001b[39m.\u001b[39mresults:\n\u001b[0;32m--> <a href='file:///Users/sergiomarchena/miniforge3/envs/MLvenv/lib/python3.8/site-packages/keras/engine/training_utils_v1.py?line=126'>127</a>\u001b[0m     \u001b[39mraise\u001b[39;00m \u001b[39mValueError\u001b[39;00m(\u001b[39m'\u001b[39m\u001b[39mEmpty training data.\u001b[39m\u001b[39m'\u001b[39m)\n\u001b[1;32m    <a href='file:///Users/sergiomarchena/miniforge3/envs/MLvenv/lib/python3.8/site-packages/keras/engine/training_utils_v1.py?line=127'>128</a>\u001b[0m   \u001b[39mself\u001b[39m\u001b[39m.\u001b[39mresults[\u001b[39m0\u001b[39m] \u001b[39m/\u001b[39m\u001b[39m=\u001b[39m (\u001b[39mself\u001b[39m\u001b[39m.\u001b[39mnum_samples \u001b[39mor\u001b[39;00m \u001b[39mself\u001b[39m\u001b[39m.\u001b[39msteps)\n",
      "\u001b[0;31mValueError\u001b[0m: Empty training data."
     ]
    }
   ],
   "source": [
    "results_protected = []\n",
    "for len_steal in [250, 500, 1000, 2000, 3000, 4000]:\n",
    "    indices = np.random.permutation(len(x_test))\n",
    "    x_steal = x_test[indices[:len_steal]]\n",
    "    y_steal = y_test[indices[:len_steal]]\n",
    "    x_test = x_test[indices[len_steal:]]\n",
    "    y_test = y_test[indices[len_steal:]]\n",
    "\n",
    "    for name, attack in attack_catalogue.items():\n",
    "        model_stolen = stealed_model()\n",
    "        classifier_stolen = KerasClassifier(model_stolen, clip_values=(0, 1), use_logits=False)\n",
    "        if name==\"FunctionallyEquivalentExtraction\":\n",
    "            # Se modifica el shape de la data \n",
    "            classifier_stolen = attack.extract(np.reshape(x_steal, [len(x_steal), -1]), y_steal, thieved_classifier=classifier_stolen)\n",
    "        else:\n",
    "            classifier_stolen = attack.extract(x_steal, y_steal, thieved_classifier=classifier_stolen)\n",
    "        \n",
    "        acc = classifier_stolen._model.evaluate(x_test, y_test)[1]\n",
    "        print(name, \":\", acc)\n",
    "        results_protected.append((name, len_steal, acc))"
   ]
  },
  {
   "cell_type": "code",
   "execution_count": 87,
   "metadata": {},
   "outputs": [
    {
     "data": {
      "image/png": "[encoded data removed]",
      "text/plain": [
       "<Figure size 576x432 with 1 Axes>"
      ]
     },
     "metadata": {
      "needs_background": "light"
     },
     "output_type": "display_data"
    }
   ],
   "source": [
    "# gráfica el accuracy del modelo protegido, contra el tamaño del dataset \n",
    "df_protected = pd.DataFrame(results_protected, columns=('Method Name', 'Stealing Dataset Size', 'Accuracy'))\n",
    "fig, ax = plt.subplots(figsize=(8,6))\n",
    "ax.set_xlabel(\"Stealing Dataset Size\")\n",
    "ax.set_ylabel(\"Stolen Model Accuracy\")\n",
    "for name, group in df_protected.groupby(\"Method Name\"):\n",
    "    group.plot(1, 2, ax=ax, label=name)\n",
    "plt.show()"
   ]
  },
  {
   "cell_type": "markdown",
   "metadata": {},
   "source": [
    "Como se observa en la grafica, en los atques probabilisticos, el ataque CopycatCNN tuvo una mejor accuracy que el KnockoffNets. Ahora bien, en los ataques no probabilisticos (argmax), los resultados son muy similares. Pero KnockoffNets es un poco mejor."
   ]
  },
  {
   "cell_type": "code",
   "execution_count": 88,
   "metadata": {},
   "outputs": [],
   "source": [
    "df_combined = pd.concat([df, df_protected]) # se agrupa la data robada de los modelos creados con diferentes metodos de ataque\n",
    "groupby = df_combined.groupby(\"Method Name\")"
   ]
  },
  {
   "cell_type": "code",
   "execution_count": 89,
   "metadata": {},
   "outputs": [
    {
     "name": "stderr",
     "output_type": "stream",
     "text": [
      "/var/folders/3q/f_c12djx2yxc8v2vq4255gcm0000gn/T/ipykernel_1522/3763360729.py:8: UserWarning: Matplotlib is currently using module://matplotlib_inline.backend_inline, which is a non-GUI backend, so cannot show the figure.\n",
      "  fig.show()\n"
     ]
    },
    {
     "data": {
      "image/png": "[encoded data removed]",
      "text/plain": [
       "<Figure size 576x432 with 1 Axes>"
      ]
     },
     "metadata": {
      "needs_background": "light"
     },
     "output_type": "display_data"
    },
    {
     "data": {
      "image/png": "[encoded data removed]",
      "text/plain": [
       "<Figure size 576x432 with 1 Axes>"
      ]
     },
     "metadata": {
      "needs_background": "light"
     },
     "output_type": "display_data"
    }
   ],
   "source": [
    "names = [\"CopycatCNN\", \"KnockoffNets\"] # metodos de ataques usados\n",
    "for name in names:\n",
    "    fig, ax = plt.subplots(figsize=(8,6))\n",
    "    groupby.get_group(\"Probabilistic \" + name).plot(1, 2,ax = ax, label = \"Probabilistic \" + name)\n",
    "    groupby.get_group(\"Probabilistic \" + name + \" (vs. Protected)\").plot(1,2,ax=ax, label=\"Probabilistic \" + name + \" (vs. Protected)\")\n",
    "    ax.set_xlabel(\"Stealing Dataset Size\")\n",
    "    ax.set_ylabel(\"Stolen Model Accuracy\")\n",
    "    fig.show()"
   ]
  },
  {
   "cell_type": "markdown",
   "metadata": {},
   "source": [
    "Se puede observar que en los dos casos de ataques, el accuracy del modelo baja considerablemente con la capa de proteccion. En el caso de CopycatCNN baja de 0.9 aprox hasta 0.8 aprox. Y en KnockoffNets, baja de mas de 0.9 aprox hasta 0.75 aprox. Esto es un comportamiento totalmente esperado. "
   ]
  },
  {
   "cell_type": "code",
   "execution_count": null,
   "metadata": {},
   "outputs": [],
   "source": []
  }
 ],
 "metadata": {
  "interpreter": {
   "hash": "9693fe7caecb8f0b0f60516dacbc1ade060774c7c58f506f3577bfd71ddb38f7"
  },
  "kernelspec": {
   "display_name": "Python 3.8.13 ('MLvenv')",
   "language": "python",
   "name": "python3"
  },
  "language_info": {
   "codemirror_mode": {
    "name": "ipython",
    "version": 3
   },
   "file_extension": ".py",
   "mimetype": "text/x-python",
   "name": "python",
   "nbconvert_exporter": "python",
   "pygments_lexer": "ipython3",
   "version": "3.8.13"
  },
  "orig_nbformat": 4
 },
 "nbformat": 4,
 "nbformat_minor": 2
}
